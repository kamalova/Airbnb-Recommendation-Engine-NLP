{
  "nbformat": 4,
  "nbformat_minor": 0,
  "metadata": {
    "colab": {
      "provenance": [],
      "include_colab_link": true
    },
    "kernelspec": {
      "name": "python3",
      "display_name": "Python 3"
    },
    "language_info": {
      "name": "python"
    },
    "accelerator": "GPU",
    "gpuClass": "standard"
  },
  "cells": [
    {
      "cell_type": "markdown",
      "metadata": {
        "id": "view-in-github",
        "colab_type": "text"
      },
      "source": [
        "<a href=\"https://colab.research.google.com/github/kamalova/Capstone/blob/main/Recommendation_Engine.ipynb\" target=\"_parent\"><img src=\"https://colab.research.google.com/assets/colab-badge.svg\" alt=\"Open In Colab\"/></a>"
      ]
    },
    {
      "cell_type": "markdown",
      "source": [
        "## **Airbnb Recommendation Engine for NYC through Sentiment Analysis**"
      ],
      "metadata": {
        "id": "f-YiN10LZssF"
      }
    },
    {
      "cell_type": "markdown",
      "source": [
        "**Table of Contents**<p>\n",
        "- Business Case\n",
        "- Aim of the Notebook\n",
        "- What is a Recommendation Engine\n",
        "- Data Understanding\n",
        "- Building Recommender Engine\n"
      ],
      "metadata": {
        "id": "DbUymc6OZxhw"
      }
    },
    {
      "cell_type": "markdown",
      "source": [
        "#### **1. Business Case**<p>\n",
        "**About Airbnb:** *You can host anything, anywhere, so guests can enjoy everything, everywhere.*<p>\n",
        "Nowadays the demand for short and long-term temporary accommodation is increasing thanks to easing travel conditions. This demand positively affects the number of online platforms that allow you to make reservations before traveling. **Airbnb** is one such platform, which allows travelers to make accommodation reservations based on the fact that the host leases all or part of his or her home to the traveler.<p>\n",
        "Customer reviews play an important role  in the customer’s decision to purchase a product or use a service. Customer preferences and opinions are affected by other customers’ reviews online, on blogs or over social networking \n",
        "platforms<p>\n",
        "The main goal of this work is to combine both \n",
        "recommendation system and sentiment analysis in order to \n",
        "recommend the most accurate listings  for users based on their preferences in **New York City**. Since both domains suffer from the lack of labeled data, to overcome that, this project detects the opinions polarity score using **NLTK VADER** (Valence Aware Dictionary and Sentiment Reasoner) Lexicon.\n",
        "\n",
        "We’ll therefore split our approaches into following sections:\n",
        "\n",
        "- Exploring available AirBnb listings in NYC\n",
        "- Measuring polarity/sentiment scores along with vader_lexicon. This polarity\n",
        "measurement adapts to *pos, neu, neg*, and compound. By simply taking the compound\n",
        "from these values, a new feature was created on the data.\n",
        "- Building a recommendation engine with Collaborative Filtering to predict sentiment score for all reviewer-listing pairs and making personalised recommendations for each user based on their ranked preferences."
      ],
      "metadata": {
        "id": "Tpcuv8pkZpjx"
      }
    },
    {
      "cell_type": "markdown",
      "source": [
        "#### **2. What is a Recommendation Engine?** <p>\n",
        "In general, recommendation engine consist of algorithms that can present\n",
        "similar elements to users. Recommended application, articles, videos, etc. It's about the user. It analyzes the user's previous habits and makes recommendations. Each item shown to the user has a ranking. This sequence is based on the recommended system and is created by examining the user's historical data. This system consists of two\n",
        "separate categories. \n",
        "**Content-Based (CB)** and **Collaborative Filtering (CF)** systems. <p>The CF\n",
        "method focuses on collecting and analyzing data on user behavior, activities, and preferences, to predict what a person will like, based on their similarity to other users.\n",
        "\n",
        "To plot and calculate these similarities, collaborative filtering uses a matrix style formula. An advantage of collaborative filtering is that it doesn’t need to analyze or understand the content (products, films, books). It simply picks items to recommend based on what they know about the user.\n",
        "\n",
        "[more](https://www.appier.com/en/blog/what-is-a-recommendation-engine-and-how-does-it-work)"
      ],
      "metadata": {
        "id": "-iUK_gTJdPvV"
      }
    },
    {
      "cell_type": "markdown",
      "source": [
        "#### **3. Aim of the Notebook**<p>\n",
        " This is the last Notebook  and last project section which aims to building a recommendation engine with Collaborative Filtering to predict sentiment score for all reviewer-listing pairs and make personalised recommendations for each user based on their ranked preferences."
      ],
      "metadata": {
        "id": "o0Rsv6p9aFtd"
      }
    },
    {
      "cell_type": "markdown",
      "source": [
        "#### **4. Data Understanding** <p>\n",
        "We will use the dataset of <mark> review_polarity</mark>  which was preprocessed during the Sentiment Analysis section. Let's dive deep into the most exciting part of the project. "
      ],
      "metadata": {
        "id": "xEX2CufMas4q"
      }
    },
    {
      "cell_type": "code",
      "execution_count": 1,
      "metadata": {
        "id": "ABgLfzqWbObp"
      },
      "outputs": [],
      "source": [
        "# Import necessary libraries\n",
        "import numpy as np\n",
        "import pandas as pd\n",
        "pd.set_option('display.max_colwidth', None)\n",
        "\n",
        "# Data visualization\n",
        "import seaborn as sns\n",
        "from sklearn.model_selection import train_test_split\n",
        "import matplotlib.pyplot as plt\n",
        "%matplotlib inline\n",
        "# Seaborn's beautiful styling\n",
        "import seaborn as sns\n",
        "# to get rid of the warnings\n",
        "import warnings\n",
        "warnings.filterwarnings(\"ignore\")\n",
        "sns.set_style('whitegrid')\n",
        "from collections import Counter\n",
        "from scipy import stats\n",
        "\n",
        "from scipy.linalg import sqrtm\n",
        "from sklearn.metrics import mean_squared_error\n",
        "from math import sqrt"
      ]
    },
    {
      "cell_type": "code",
      "source": [
        "%rm -rf sample_data/"
      ],
      "metadata": {
        "id": "x_Kdu0xvCtvz"
      },
      "execution_count": null,
      "outputs": []
    },
    {
      "cell_type": "code",
      "source": [
        "# Load dataset\n",
        "df_reviews = pd.read_csv('/content/reviews_polarity.csv')\n",
        "df_reviews"
      ],
      "metadata": {
        "colab": {
          "base_uri": "https://localhost:8080/",
          "height": 1000
        },
        "id": "3TW8k12qDKmm",
        "outputId": "77d8e658-a169-4862-9bf4-c04a9205287e"
      },
      "execution_count": 2,
      "outputs": [
        {
          "output_type": "execute_result",
          "data": {
            "text/plain": [
              "       listing_id         id  reviewer_id reviewer_name  \\\n",
              "0            2595      19760        38960         Anita   \n",
              "1            2595      34320        71130       Kai-Uwe   \n",
              "2            2595      46312       117113        Alicia   \n",
              "3            2595    1238204      1783688        Sergey   \n",
              "4            2595    1293632      1870771          Loïc   \n",
              "...           ...        ...          ...           ...   \n",
              "70806       72265  161050979    109542482          John   \n",
              "70807       72265  163401732      1282541         Sofia   \n",
              "70808       72265  252657179      8936723            Yo   \n",
              "70809       72265  277084426     17160406       Ioannis   \n",
              "70810       72265  294169497    165490874          Elsa   \n",
              "\n",
              "                                                                                                                                                                                                                                                                                                                                                                                                                                                                                                                                                                                                                                                 comments  \\\n",
              "0                                                                                                                                                                    i ve stayed with my friend at the midtown castle for six days and it was a lovely place to be  a big spacious room with a pointy roof  which really makes you feel like staying in a castle  the location is perfect  it is just a few steps from macy s time square and theatre district  everything worked just perfect with the keys etc  thank you so much jennifer  we had a great time in new york  attention  it s on the   floor without a lift     but definetely worth it    \n",
              "1                                                                                                                                                                                                                                                                          we ve been staying here for about   nights  enjoying to be in the center of the city  that never sleeps   short ways to everywhere in manhattan  by subway or by walk  midtown castle is a beauftiful and tastful place  jennifer and tori relaxed and friendly hosts   thats why we   the three berliners   recommand that place  good to have wifi and a little kitchen too    \n",
              "2                                                                                                                                                                                                                                                                                                                                                                                                                                                                                             we had a wonderful stay at jennifer s charming apartment  they were very organized and helpful  i would definitely recommend staying at the midtown castle    \n",
              "3                                                              hi to everyone  would say our greatest compliments to jennifer  the host of midtown castle  we spent in this lovely apartment in the heart of manhattan one month  april     and will remember this time as ours best  the apartment is pretty spacious and great located   the   th ave right around the corner  there is everything you can need during your short or long stay  jennifer is very friendly  vigorous and very responsible host  thanks her and highly recomend this apartment for everyone who are looking for a quiet place right in the center of the boiling midtown    \n",
              "4                                                                                                                                                                                                                                                                                                                                                                                                                                            jennifer was very friendly and helpful  and her place is exactly as advertised  the location is very convenient  and it was a pleasure to stay at the midtown castle  i definitely recommend it     thanks     \n",
              "...                                                                                                                                                                                                                                                                                                                                                                                                                                                                                                                                                                                                                                                   ...   \n",
              "70806                                                                                                                                                                                                                                                                                                                                                                                                                                                                                                                                                                                          vanessa was very pleasant and communication was very good    \n",
              "70807                                                                                                                                                                                                                                                                                                                                                                                                                                                                                                                                                                                                                  great location  close to g train     \n",
              "70808  highly recommend   cannot beat this value   great location     minute walk to subway and   sec to bus which connects you easily and quickly to various parts of manhattan and brooklyn   organic  as well as regular  grocery stores and lots of awesome restaurants and stores near by   very safe neighborhoods nice room   not big but it s plenty enough and everything works well   it s nice   warm in the winter  even though the bedroom is separated by a curtain to the kitchen  because the host is mainly in the other section of the apartment  you have a lot of privacy   vanessa is a very friendly  interesting and helpful host    \n",
              "70809                                                                                                                                                                                                                                                                                                                                                                 vanessa is a great and very polite host and gives you as much privacy as you want  the room can be seen in the photos and has everything you need  the location is amazing as well with plenty of bars  restaurants and stores around and literally half a block away from g train    \n",
              "70810                                                                                                                                                                                                                                                                                                                                                     vanessa is a very hospitable and friendly person  i was able to interact with her a lot  the apartment is ideally located  the room very convenient  i have nothing to say except that i had a great time  and it was a great experience for me  thank you vanessa  i would definitely go back    \n",
              "\n",
              "       month    weekday language  text_length  polarity_score sentiment_type  \n",
              "0         12   Thursday       en          468          0.9274       Positive  \n",
              "1          4     Friday       en          366          0.9136       Positive  \n",
              "2          5    Tuesday       en          155          0.9409       Positive  \n",
              "3          5     Monday       en          570          0.9863       Positive  \n",
              "4          5   Thursday       en          204          0.9542       Positive  \n",
              "...      ...        ...      ...          ...             ...            ...  \n",
              "70806      6     Friday       en           58          0.7774       Positive  \n",
              "70807      6   Saturday       en           34          0.6249       Positive  \n",
              "70808      4  Wednesday       en          626          0.9870       Positive  \n",
              "70809      6     Friday       en          275          0.8126       Positive  \n",
              "70810      7   Saturday       en          287          0.9621       Positive  \n",
              "\n",
              "[70811 rows x 11 columns]"
            ],
            "text/html": [
              "\n",
              "  <div id=\"df-e5f4142e-90ef-43e9-b833-c68fe05fe520\">\n",
              "    <div class=\"colab-df-container\">\n",
              "      <div>\n",
              "<style scoped>\n",
              "    .dataframe tbody tr th:only-of-type {\n",
              "        vertical-align: middle;\n",
              "    }\n",
              "\n",
              "    .dataframe tbody tr th {\n",
              "        vertical-align: top;\n",
              "    }\n",
              "\n",
              "    .dataframe thead th {\n",
              "        text-align: right;\n",
              "    }\n",
              "</style>\n",
              "<table border=\"1\" class=\"dataframe\">\n",
              "  <thead>\n",
              "    <tr style=\"text-align: right;\">\n",
              "      <th></th>\n",
              "      <th>listing_id</th>\n",
              "      <th>id</th>\n",
              "      <th>reviewer_id</th>\n",
              "      <th>reviewer_name</th>\n",
              "      <th>comments</th>\n",
              "      <th>month</th>\n",
              "      <th>weekday</th>\n",
              "      <th>language</th>\n",
              "      <th>text_length</th>\n",
              "      <th>polarity_score</th>\n",
              "      <th>sentiment_type</th>\n",
              "    </tr>\n",
              "  </thead>\n",
              "  <tbody>\n",
              "    <tr>\n",
              "      <th>0</th>\n",
              "      <td>2595</td>\n",
              "      <td>19760</td>\n",
              "      <td>38960</td>\n",
              "      <td>Anita</td>\n",
              "      <td>i ve stayed with my friend at the midtown castle for six days and it was a lovely place to be  a big spacious room with a pointy roof  which really makes you feel like staying in a castle  the location is perfect  it is just a few steps from macy s time square and theatre district  everything worked just perfect with the keys etc  thank you so much jennifer  we had a great time in new york  attention  it s on the   floor without a lift     but definetely worth it</td>\n",
              "      <td>12</td>\n",
              "      <td>Thursday</td>\n",
              "      <td>en</td>\n",
              "      <td>468</td>\n",
              "      <td>0.9274</td>\n",
              "      <td>Positive</td>\n",
              "    </tr>\n",
              "    <tr>\n",
              "      <th>1</th>\n",
              "      <td>2595</td>\n",
              "      <td>34320</td>\n",
              "      <td>71130</td>\n",
              "      <td>Kai-Uwe</td>\n",
              "      <td>we ve been staying here for about   nights  enjoying to be in the center of the city  that never sleeps   short ways to everywhere in manhattan  by subway or by walk  midtown castle is a beauftiful and tastful place  jennifer and tori relaxed and friendly hosts   thats why we   the three berliners   recommand that place  good to have wifi and a little kitchen too</td>\n",
              "      <td>4</td>\n",
              "      <td>Friday</td>\n",
              "      <td>en</td>\n",
              "      <td>366</td>\n",
              "      <td>0.9136</td>\n",
              "      <td>Positive</td>\n",
              "    </tr>\n",
              "    <tr>\n",
              "      <th>2</th>\n",
              "      <td>2595</td>\n",
              "      <td>46312</td>\n",
              "      <td>117113</td>\n",
              "      <td>Alicia</td>\n",
              "      <td>we had a wonderful stay at jennifer s charming apartment  they were very organized and helpful  i would definitely recommend staying at the midtown castle</td>\n",
              "      <td>5</td>\n",
              "      <td>Tuesday</td>\n",
              "      <td>en</td>\n",
              "      <td>155</td>\n",
              "      <td>0.9409</td>\n",
              "      <td>Positive</td>\n",
              "    </tr>\n",
              "    <tr>\n",
              "      <th>3</th>\n",
              "      <td>2595</td>\n",
              "      <td>1238204</td>\n",
              "      <td>1783688</td>\n",
              "      <td>Sergey</td>\n",
              "      <td>hi to everyone  would say our greatest compliments to jennifer  the host of midtown castle  we spent in this lovely apartment in the heart of manhattan one month  april     and will remember this time as ours best  the apartment is pretty spacious and great located   the   th ave right around the corner  there is everything you can need during your short or long stay  jennifer is very friendly  vigorous and very responsible host  thanks her and highly recomend this apartment for everyone who are looking for a quiet place right in the center of the boiling midtown</td>\n",
              "      <td>5</td>\n",
              "      <td>Monday</td>\n",
              "      <td>en</td>\n",
              "      <td>570</td>\n",
              "      <td>0.9863</td>\n",
              "      <td>Positive</td>\n",
              "    </tr>\n",
              "    <tr>\n",
              "      <th>4</th>\n",
              "      <td>2595</td>\n",
              "      <td>1293632</td>\n",
              "      <td>1870771</td>\n",
              "      <td>Loïc</td>\n",
              "      <td>jennifer was very friendly and helpful  and her place is exactly as advertised  the location is very convenient  and it was a pleasure to stay at the midtown castle  i definitely recommend it     thanks</td>\n",
              "      <td>5</td>\n",
              "      <td>Thursday</td>\n",
              "      <td>en</td>\n",
              "      <td>204</td>\n",
              "      <td>0.9542</td>\n",
              "      <td>Positive</td>\n",
              "    </tr>\n",
              "    <tr>\n",
              "      <th>...</th>\n",
              "      <td>...</td>\n",
              "      <td>...</td>\n",
              "      <td>...</td>\n",
              "      <td>...</td>\n",
              "      <td>...</td>\n",
              "      <td>...</td>\n",
              "      <td>...</td>\n",
              "      <td>...</td>\n",
              "      <td>...</td>\n",
              "      <td>...</td>\n",
              "      <td>...</td>\n",
              "    </tr>\n",
              "    <tr>\n",
              "      <th>70806</th>\n",
              "      <td>72265</td>\n",
              "      <td>161050979</td>\n",
              "      <td>109542482</td>\n",
              "      <td>John</td>\n",
              "      <td>vanessa was very pleasant and communication was very good</td>\n",
              "      <td>6</td>\n",
              "      <td>Friday</td>\n",
              "      <td>en</td>\n",
              "      <td>58</td>\n",
              "      <td>0.7774</td>\n",
              "      <td>Positive</td>\n",
              "    </tr>\n",
              "    <tr>\n",
              "      <th>70807</th>\n",
              "      <td>72265</td>\n",
              "      <td>163401732</td>\n",
              "      <td>1282541</td>\n",
              "      <td>Sofia</td>\n",
              "      <td>great location  close to g train</td>\n",
              "      <td>6</td>\n",
              "      <td>Saturday</td>\n",
              "      <td>en</td>\n",
              "      <td>34</td>\n",
              "      <td>0.6249</td>\n",
              "      <td>Positive</td>\n",
              "    </tr>\n",
              "    <tr>\n",
              "      <th>70808</th>\n",
              "      <td>72265</td>\n",
              "      <td>252657179</td>\n",
              "      <td>8936723</td>\n",
              "      <td>Yo</td>\n",
              "      <td>highly recommend   cannot beat this value   great location     minute walk to subway and   sec to bus which connects you easily and quickly to various parts of manhattan and brooklyn   organic  as well as regular  grocery stores and lots of awesome restaurants and stores near by   very safe neighborhoods nice room   not big but it s plenty enough and everything works well   it s nice   warm in the winter  even though the bedroom is separated by a curtain to the kitchen  because the host is mainly in the other section of the apartment  you have a lot of privacy   vanessa is a very friendly  interesting and helpful host</td>\n",
              "      <td>4</td>\n",
              "      <td>Wednesday</td>\n",
              "      <td>en</td>\n",
              "      <td>626</td>\n",
              "      <td>0.9870</td>\n",
              "      <td>Positive</td>\n",
              "    </tr>\n",
              "    <tr>\n",
              "      <th>70809</th>\n",
              "      <td>72265</td>\n",
              "      <td>277084426</td>\n",
              "      <td>17160406</td>\n",
              "      <td>Ioannis</td>\n",
              "      <td>vanessa is a great and very polite host and gives you as much privacy as you want  the room can be seen in the photos and has everything you need  the location is amazing as well with plenty of bars  restaurants and stores around and literally half a block away from g train</td>\n",
              "      <td>6</td>\n",
              "      <td>Friday</td>\n",
              "      <td>en</td>\n",
              "      <td>275</td>\n",
              "      <td>0.8126</td>\n",
              "      <td>Positive</td>\n",
              "    </tr>\n",
              "    <tr>\n",
              "      <th>70810</th>\n",
              "      <td>72265</td>\n",
              "      <td>294169497</td>\n",
              "      <td>165490874</td>\n",
              "      <td>Elsa</td>\n",
              "      <td>vanessa is a very hospitable and friendly person  i was able to interact with her a lot  the apartment is ideally located  the room very convenient  i have nothing to say except that i had a great time  and it was a great experience for me  thank you vanessa  i would definitely go back</td>\n",
              "      <td>7</td>\n",
              "      <td>Saturday</td>\n",
              "      <td>en</td>\n",
              "      <td>287</td>\n",
              "      <td>0.9621</td>\n",
              "      <td>Positive</td>\n",
              "    </tr>\n",
              "  </tbody>\n",
              "</table>\n",
              "<p>70811 rows × 11 columns</p>\n",
              "</div>\n",
              "      <button class=\"colab-df-convert\" onclick=\"convertToInteractive('df-e5f4142e-90ef-43e9-b833-c68fe05fe520')\"\n",
              "              title=\"Convert this dataframe to an interactive table.\"\n",
              "              style=\"display:none;\">\n",
              "        \n",
              "  <svg xmlns=\"http://www.w3.org/2000/svg\" height=\"24px\"viewBox=\"0 0 24 24\"\n",
              "       width=\"24px\">\n",
              "    <path d=\"M0 0h24v24H0V0z\" fill=\"none\"/>\n",
              "    <path d=\"M18.56 5.44l.94 2.06.94-2.06 2.06-.94-2.06-.94-.94-2.06-.94 2.06-2.06.94zm-11 1L8.5 8.5l.94-2.06 2.06-.94-2.06-.94L8.5 2.5l-.94 2.06-2.06.94zm10 10l.94 2.06.94-2.06 2.06-.94-2.06-.94-.94-2.06-.94 2.06-2.06.94z\"/><path d=\"M17.41 7.96l-1.37-1.37c-.4-.4-.92-.59-1.43-.59-.52 0-1.04.2-1.43.59L10.3 9.45l-7.72 7.72c-.78.78-.78 2.05 0 2.83L4 21.41c.39.39.9.59 1.41.59.51 0 1.02-.2 1.41-.59l7.78-7.78 2.81-2.81c.8-.78.8-2.07 0-2.86zM5.41 20L4 18.59l7.72-7.72 1.47 1.35L5.41 20z\"/>\n",
              "  </svg>\n",
              "      </button>\n",
              "      \n",
              "  <style>\n",
              "    .colab-df-container {\n",
              "      display:flex;\n",
              "      flex-wrap:wrap;\n",
              "      gap: 12px;\n",
              "    }\n",
              "\n",
              "    .colab-df-convert {\n",
              "      background-color: #E8F0FE;\n",
              "      border: none;\n",
              "      border-radius: 50%;\n",
              "      cursor: pointer;\n",
              "      display: none;\n",
              "      fill: #1967D2;\n",
              "      height: 32px;\n",
              "      padding: 0 0 0 0;\n",
              "      width: 32px;\n",
              "    }\n",
              "\n",
              "    .colab-df-convert:hover {\n",
              "      background-color: #E2EBFA;\n",
              "      box-shadow: 0px 1px 2px rgba(60, 64, 67, 0.3), 0px 1px 3px 1px rgba(60, 64, 67, 0.15);\n",
              "      fill: #174EA6;\n",
              "    }\n",
              "\n",
              "    [theme=dark] .colab-df-convert {\n",
              "      background-color: #3B4455;\n",
              "      fill: #D2E3FC;\n",
              "    }\n",
              "\n",
              "    [theme=dark] .colab-df-convert:hover {\n",
              "      background-color: #434B5C;\n",
              "      box-shadow: 0px 1px 3px 1px rgba(0, 0, 0, 0.15);\n",
              "      filter: drop-shadow(0px 1px 2px rgba(0, 0, 0, 0.3));\n",
              "      fill: #FFFFFF;\n",
              "    }\n",
              "  </style>\n",
              "\n",
              "      <script>\n",
              "        const buttonEl =\n",
              "          document.querySelector('#df-e5f4142e-90ef-43e9-b833-c68fe05fe520 button.colab-df-convert');\n",
              "        buttonEl.style.display =\n",
              "          google.colab.kernel.accessAllowed ? 'block' : 'none';\n",
              "\n",
              "        async function convertToInteractive(key) {\n",
              "          const element = document.querySelector('#df-e5f4142e-90ef-43e9-b833-c68fe05fe520');\n",
              "          const dataTable =\n",
              "            await google.colab.kernel.invokeFunction('convertToInteractive',\n",
              "                                                     [key], {});\n",
              "          if (!dataTable) return;\n",
              "\n",
              "          const docLinkHtml = 'Like what you see? Visit the ' +\n",
              "            '<a target=\"_blank\" href=https://colab.research.google.com/notebooks/data_table.ipynb>data table notebook</a>'\n",
              "            + ' to learn more about interactive tables.';\n",
              "          element.innerHTML = '';\n",
              "          dataTable['output_type'] = 'display_data';\n",
              "          await google.colab.output.renderOutput(dataTable, element);\n",
              "          const docLink = document.createElement('div');\n",
              "          docLink.innerHTML = docLinkHtml;\n",
              "          element.appendChild(docLink);\n",
              "        }\n",
              "      </script>\n",
              "    </div>\n",
              "  </div>\n",
              "  "
            ]
          },
          "metadata": {},
          "execution_count": 2
        }
      ]
    },
    {
      "cell_type": "code",
      "source": [
        "# Print dataFrame columns\n",
        "df_reviews.columns"
      ],
      "metadata": {
        "id": "_AyHf0uEedXc",
        "outputId": "05038e75-780b-47a9-9293-ffef4dad8594",
        "colab": {
          "base_uri": "https://localhost:8080/"
        }
      },
      "execution_count": 3,
      "outputs": [
        {
          "output_type": "execute_result",
          "data": {
            "text/plain": [
              "Index(['listing_id', 'id', 'reviewer_id', 'reviewer_name', 'comments', 'month',\n",
              "       'weekday', 'language', 'text_length', 'polarity_score',\n",
              "       'sentiment_type'],\n",
              "      dtype='object')"
            ]
          },
          "metadata": {},
          "execution_count": 3
        }
      ]
    },
    {
      "cell_type": "code",
      "source": [
        "# Drop unnecessary columns\n",
        "df_reviews.drop(columns=['id','comments','month','weekday','language','text_length'],inplace=True)"
      ],
      "metadata": {
        "id": "EPiKGGOjeuMX"
      },
      "execution_count": 4,
      "outputs": []
    },
    {
      "cell_type": "code",
      "source": [
        "df_reviews"
      ],
      "metadata": {
        "id": "X8cR6xv3qc_V",
        "outputId": "3ea95101-8a25-4778-810a-61b5fde53de6",
        "colab": {
          "base_uri": "https://localhost:8080/",
          "height": 424
        }
      },
      "execution_count": 5,
      "outputs": [
        {
          "output_type": "execute_result",
          "data": {
            "text/plain": [
              "       listing_id  reviewer_id reviewer_name  polarity_score sentiment_type\n",
              "0            2595        38960         Anita          0.9274       Positive\n",
              "1            2595        71130       Kai-Uwe          0.9136       Positive\n",
              "2            2595       117113        Alicia          0.9409       Positive\n",
              "3            2595      1783688        Sergey          0.9863       Positive\n",
              "4            2595      1870771          Loïc          0.9542       Positive\n",
              "...           ...          ...           ...             ...            ...\n",
              "70806       72265    109542482          John          0.7774       Positive\n",
              "70807       72265      1282541         Sofia          0.6249       Positive\n",
              "70808       72265      8936723            Yo          0.9870       Positive\n",
              "70809       72265     17160406       Ioannis          0.8126       Positive\n",
              "70810       72265    165490874          Elsa          0.9621       Positive\n",
              "\n",
              "[70811 rows x 5 columns]"
            ],
            "text/html": [
              "\n",
              "  <div id=\"df-6a262f6a-a16a-4e52-b82c-3ed0f4ae92ef\">\n",
              "    <div class=\"colab-df-container\">\n",
              "      <div>\n",
              "<style scoped>\n",
              "    .dataframe tbody tr th:only-of-type {\n",
              "        vertical-align: middle;\n",
              "    }\n",
              "\n",
              "    .dataframe tbody tr th {\n",
              "        vertical-align: top;\n",
              "    }\n",
              "\n",
              "    .dataframe thead th {\n",
              "        text-align: right;\n",
              "    }\n",
              "</style>\n",
              "<table border=\"1\" class=\"dataframe\">\n",
              "  <thead>\n",
              "    <tr style=\"text-align: right;\">\n",
              "      <th></th>\n",
              "      <th>listing_id</th>\n",
              "      <th>reviewer_id</th>\n",
              "      <th>reviewer_name</th>\n",
              "      <th>polarity_score</th>\n",
              "      <th>sentiment_type</th>\n",
              "    </tr>\n",
              "  </thead>\n",
              "  <tbody>\n",
              "    <tr>\n",
              "      <th>0</th>\n",
              "      <td>2595</td>\n",
              "      <td>38960</td>\n",
              "      <td>Anita</td>\n",
              "      <td>0.9274</td>\n",
              "      <td>Positive</td>\n",
              "    </tr>\n",
              "    <tr>\n",
              "      <th>1</th>\n",
              "      <td>2595</td>\n",
              "      <td>71130</td>\n",
              "      <td>Kai-Uwe</td>\n",
              "      <td>0.9136</td>\n",
              "      <td>Positive</td>\n",
              "    </tr>\n",
              "    <tr>\n",
              "      <th>2</th>\n",
              "      <td>2595</td>\n",
              "      <td>117113</td>\n",
              "      <td>Alicia</td>\n",
              "      <td>0.9409</td>\n",
              "      <td>Positive</td>\n",
              "    </tr>\n",
              "    <tr>\n",
              "      <th>3</th>\n",
              "      <td>2595</td>\n",
              "      <td>1783688</td>\n",
              "      <td>Sergey</td>\n",
              "      <td>0.9863</td>\n",
              "      <td>Positive</td>\n",
              "    </tr>\n",
              "    <tr>\n",
              "      <th>4</th>\n",
              "      <td>2595</td>\n",
              "      <td>1870771</td>\n",
              "      <td>Loïc</td>\n",
              "      <td>0.9542</td>\n",
              "      <td>Positive</td>\n",
              "    </tr>\n",
              "    <tr>\n",
              "      <th>...</th>\n",
              "      <td>...</td>\n",
              "      <td>...</td>\n",
              "      <td>...</td>\n",
              "      <td>...</td>\n",
              "      <td>...</td>\n",
              "    </tr>\n",
              "    <tr>\n",
              "      <th>70806</th>\n",
              "      <td>72265</td>\n",
              "      <td>109542482</td>\n",
              "      <td>John</td>\n",
              "      <td>0.7774</td>\n",
              "      <td>Positive</td>\n",
              "    </tr>\n",
              "    <tr>\n",
              "      <th>70807</th>\n",
              "      <td>72265</td>\n",
              "      <td>1282541</td>\n",
              "      <td>Sofia</td>\n",
              "      <td>0.6249</td>\n",
              "      <td>Positive</td>\n",
              "    </tr>\n",
              "    <tr>\n",
              "      <th>70808</th>\n",
              "      <td>72265</td>\n",
              "      <td>8936723</td>\n",
              "      <td>Yo</td>\n",
              "      <td>0.9870</td>\n",
              "      <td>Positive</td>\n",
              "    </tr>\n",
              "    <tr>\n",
              "      <th>70809</th>\n",
              "      <td>72265</td>\n",
              "      <td>17160406</td>\n",
              "      <td>Ioannis</td>\n",
              "      <td>0.8126</td>\n",
              "      <td>Positive</td>\n",
              "    </tr>\n",
              "    <tr>\n",
              "      <th>70810</th>\n",
              "      <td>72265</td>\n",
              "      <td>165490874</td>\n",
              "      <td>Elsa</td>\n",
              "      <td>0.9621</td>\n",
              "      <td>Positive</td>\n",
              "    </tr>\n",
              "  </tbody>\n",
              "</table>\n",
              "<p>70811 rows × 5 columns</p>\n",
              "</div>\n",
              "      <button class=\"colab-df-convert\" onclick=\"convertToInteractive('df-6a262f6a-a16a-4e52-b82c-3ed0f4ae92ef')\"\n",
              "              title=\"Convert this dataframe to an interactive table.\"\n",
              "              style=\"display:none;\">\n",
              "        \n",
              "  <svg xmlns=\"http://www.w3.org/2000/svg\" height=\"24px\"viewBox=\"0 0 24 24\"\n",
              "       width=\"24px\">\n",
              "    <path d=\"M0 0h24v24H0V0z\" fill=\"none\"/>\n",
              "    <path d=\"M18.56 5.44l.94 2.06.94-2.06 2.06-.94-2.06-.94-.94-2.06-.94 2.06-2.06.94zm-11 1L8.5 8.5l.94-2.06 2.06-.94-2.06-.94L8.5 2.5l-.94 2.06-2.06.94zm10 10l.94 2.06.94-2.06 2.06-.94-2.06-.94-.94-2.06-.94 2.06-2.06.94z\"/><path d=\"M17.41 7.96l-1.37-1.37c-.4-.4-.92-.59-1.43-.59-.52 0-1.04.2-1.43.59L10.3 9.45l-7.72 7.72c-.78.78-.78 2.05 0 2.83L4 21.41c.39.39.9.59 1.41.59.51 0 1.02-.2 1.41-.59l7.78-7.78 2.81-2.81c.8-.78.8-2.07 0-2.86zM5.41 20L4 18.59l7.72-7.72 1.47 1.35L5.41 20z\"/>\n",
              "  </svg>\n",
              "      </button>\n",
              "      \n",
              "  <style>\n",
              "    .colab-df-container {\n",
              "      display:flex;\n",
              "      flex-wrap:wrap;\n",
              "      gap: 12px;\n",
              "    }\n",
              "\n",
              "    .colab-df-convert {\n",
              "      background-color: #E8F0FE;\n",
              "      border: none;\n",
              "      border-radius: 50%;\n",
              "      cursor: pointer;\n",
              "      display: none;\n",
              "      fill: #1967D2;\n",
              "      height: 32px;\n",
              "      padding: 0 0 0 0;\n",
              "      width: 32px;\n",
              "    }\n",
              "\n",
              "    .colab-df-convert:hover {\n",
              "      background-color: #E2EBFA;\n",
              "      box-shadow: 0px 1px 2px rgba(60, 64, 67, 0.3), 0px 1px 3px 1px rgba(60, 64, 67, 0.15);\n",
              "      fill: #174EA6;\n",
              "    }\n",
              "\n",
              "    [theme=dark] .colab-df-convert {\n",
              "      background-color: #3B4455;\n",
              "      fill: #D2E3FC;\n",
              "    }\n",
              "\n",
              "    [theme=dark] .colab-df-convert:hover {\n",
              "      background-color: #434B5C;\n",
              "      box-shadow: 0px 1px 3px 1px rgba(0, 0, 0, 0.15);\n",
              "      filter: drop-shadow(0px 1px 2px rgba(0, 0, 0, 0.3));\n",
              "      fill: #FFFFFF;\n",
              "    }\n",
              "  </style>\n",
              "\n",
              "      <script>\n",
              "        const buttonEl =\n",
              "          document.querySelector('#df-6a262f6a-a16a-4e52-b82c-3ed0f4ae92ef button.colab-df-convert');\n",
              "        buttonEl.style.display =\n",
              "          google.colab.kernel.accessAllowed ? 'block' : 'none';\n",
              "\n",
              "        async function convertToInteractive(key) {\n",
              "          const element = document.querySelector('#df-6a262f6a-a16a-4e52-b82c-3ed0f4ae92ef');\n",
              "          const dataTable =\n",
              "            await google.colab.kernel.invokeFunction('convertToInteractive',\n",
              "                                                     [key], {});\n",
              "          if (!dataTable) return;\n",
              "\n",
              "          const docLinkHtml = 'Like what you see? Visit the ' +\n",
              "            '<a target=\"_blank\" href=https://colab.research.google.com/notebooks/data_table.ipynb>data table notebook</a>'\n",
              "            + ' to learn more about interactive tables.';\n",
              "          element.innerHTML = '';\n",
              "          dataTable['output_type'] = 'display_data';\n",
              "          await google.colab.output.renderOutput(dataTable, element);\n",
              "          const docLink = document.createElement('div');\n",
              "          docLink.innerHTML = docLinkHtml;\n",
              "          element.appendChild(docLink);\n",
              "        }\n",
              "      </script>\n",
              "    </div>\n",
              "  </div>\n",
              "  "
            ]
          },
          "metadata": {},
          "execution_count": 5
        }
      ]
    },
    {
      "cell_type": "code",
      "source": [
        "df_reviews.polarity_score.describe()"
      ],
      "metadata": {
        "id": "B3AlvoKxfATX",
        "outputId": "1b45439d-1ccb-4cb8-a047-74f34155bc9c",
        "colab": {
          "base_uri": "https://localhost:8080/"
        }
      },
      "execution_count": 6,
      "outputs": [
        {
          "output_type": "execute_result",
          "data": {
            "text/plain": [
              "count    70811.000000\n",
              "mean         0.877807\n",
              "std          0.205164\n",
              "min         -0.995000\n",
              "25%          0.872000\n",
              "50%          0.945100\n",
              "75%          0.974700\n",
              "max          0.999400\n",
              "Name: polarity_score, dtype: float64"
            ]
          },
          "metadata": {},
          "execution_count": 6
        }
      ]
    },
    {
      "cell_type": "code",
      "source": [
        "# Install surprise package\n",
        "! pip install surprise"
      ],
      "metadata": {
        "id": "1OYHvkuxf2Dv",
        "outputId": "9f4a69b3-1b4d-4b29-8c4a-052f1497fc33",
        "colab": {
          "base_uri": "https://localhost:8080/"
        }
      },
      "execution_count": 7,
      "outputs": [
        {
          "output_type": "stream",
          "name": "stdout",
          "text": [
            "Looking in indexes: https://pypi.org/simple, https://us-python.pkg.dev/colab-wheels/public/simple/\n",
            "Collecting surprise\n",
            "  Downloading surprise-0.1-py2.py3-none-any.whl (1.8 kB)\n",
            "Collecting scikit-surprise\n",
            "  Downloading scikit-surprise-1.1.3.tar.gz (771 kB)\n",
            "\u001b[K     |████████████████████████████████| 771 kB 7.4 MB/s \n",
            "\u001b[?25hRequirement already satisfied: joblib>=1.0.0 in /usr/local/lib/python3.8/dist-packages (from scikit-surprise->surprise) (1.2.0)\n",
            "Requirement already satisfied: numpy>=1.17.3 in /usr/local/lib/python3.8/dist-packages (from scikit-surprise->surprise) (1.21.6)\n",
            "Requirement already satisfied: scipy>=1.3.2 in /usr/local/lib/python3.8/dist-packages (from scikit-surprise->surprise) (1.7.3)\n",
            "Building wheels for collected packages: scikit-surprise\n",
            "  Building wheel for scikit-surprise (setup.py) ... \u001b[?25l\u001b[?25hdone\n",
            "  Created wheel for scikit-surprise: filename=scikit_surprise-1.1.3-cp38-cp38-linux_x86_64.whl size=2626469 sha256=d8cf6e8429c5eaafc4f9f01bb21054a641f910d1fc63fce70977eb0da70c693c\n",
            "  Stored in directory: /root/.cache/pip/wheels/af/db/86/2c18183a80ba05da35bf0fb7417aac5cddbd93bcb1b92fd3ea\n",
            "Successfully built scikit-surprise\n",
            "Installing collected packages: scikit-surprise, surprise\n",
            "Successfully installed scikit-surprise-1.1.3 surprise-0.1\n"
          ]
        }
      ]
    },
    {
      "cell_type": "code",
      "source": [
        "# Import an additional libraries\n",
        "from surprise import SVD, NMF, KNNBasic, Dataset, Reader, accuracy\n",
        "from surprise.model_selection import cross_validate, train_test_split, GridSearchCV"
      ],
      "metadata": {
        "id": "c-BFHRgygv2C"
      },
      "execution_count": 8,
      "outputs": []
    },
    {
      "cell_type": "markdown",
      "source": [
        "#### **5. Building Recommender Engine**"
      ],
      "metadata": {
        "id": "_zJoLP3_JSSa"
      }
    },
    {
      "cell_type": "markdown",
      "source": [
        "The recommender systems will be built using surprise package (Matrix Factorization - based models).\n",
        "\n"
      ],
      "metadata": {
        "id": "6wr6yIXdkqxB"
      }
    },
    {
      "cell_type": "markdown",
      "source": [
        "**SVD and NMF** models comparison <p>\n",
        "Singular Value Decomposition (SVD) is a  matrix factorization technique used for dimensionality reduction. Surprise package provides implementation of this algorithms.\n",
        "It's clear that for the given dataset much better results can be obtained with SVD approach - both in terms of accuracy and training / testing time."
      ],
      "metadata": {
        "id": "QC7AdhV_j5Vt"
      }
    },
    {
      "cell_type": "code",
      "source": [
        "reader = Reader(rating_scale=(-1,1))"
      ],
      "metadata": {
        "id": "s-La17JogScM"
      },
      "execution_count": 9,
      "outputs": []
    },
    {
      "cell_type": "code",
      "source": [
        "df = Dataset.load_from_df(df_reviews[['listing_id', 'reviewer_id', 'polarity_score']], reader)\n"
      ],
      "metadata": {
        "id": "5l9Ig_hOghaA"
      },
      "execution_count": 10,
      "outputs": []
    },
    {
      "cell_type": "code",
      "source": [
        "# We'll use the famous SVD algorithm.\n",
        "model_svd = SVD()\n",
        "cv_results_svd = cross_validate(model_svd, df, cv=5)\n",
        "pd.DataFrame(cv_results_svd).mean()\n"
      ],
      "metadata": {
        "id": "Uy-6fVMmi-w3",
        "outputId": "c42673f4-51f5-4855-a341-467032de4ece",
        "colab": {
          "base_uri": "https://localhost:8080/"
        }
      },
      "execution_count": 11,
      "outputs": [
        {
          "output_type": "execute_result",
          "data": {
            "text/plain": [
              "test_rmse    0.153155\n",
              "test_mae     0.084649\n",
              "fit_time     0.980989\n",
              "test_time    0.119647\n",
              "dtype: float64"
            ]
          },
          "metadata": {},
          "execution_count": 11
        }
      ]
    },
    {
      "cell_type": "markdown",
      "source": [
        "##### **5.1. Optimisation of SVD Algorithm** <p>\n",
        "Grid Search Cross Validation computes accuracy metrics for an algorithm on various combinations of parameters, over a cross-validation procedure. It's useful for finding the best configuration of parameters.<p>\n",
        "\n",
        "It is used to find the best setting of parameters:\n",
        "\n",
        "- n_factors - the number of factors\n",
        "- n_epochs - the number of iteration of the SGD procedure\n",
        "- lr_all - the learning rate for all parameters\n",
        "- reg_all - the regularization term for all parameters<p>\n",
        "As a result, regarding the majority of parameters, the default setting is the most optimal one. The improvement obtained with Grid Search is very small."
      ],
      "metadata": {
        "id": "Z5z2R29rkB0z"
      }
    },
    {
      "cell_type": "code",
      "source": [
        "# Setting dictionary parameters \n",
        "param_grid = {'n_factors': [80,100,120],\n",
        "              'n_epochs': [5, 10, 20],\n",
        "              'lr_all': [0.002, 0.005],\n",
        "              'reg_all': [0.2, 0.4, 0.6]}\n",
        "\n",
        "GS = GridSearchCV(SVD, param_grid, measures=['rmse', 'mae'], cv=3)\n",
        "GS.fit(df)\n",
        "# Best RMSE score\n",
        "print(GS.best_score['rmse'])\n",
        "# Combination of parameters that gave the best RMSE score\n",
        "print(GS.best_params['rmse'])\n"
      ],
      "metadata": {
        "id": "01f1MWmqi-2E",
        "outputId": "1bd7abf0-1eeb-4d11-d435-c6544dac0848",
        "colab": {
          "base_uri": "https://localhost:8080/"
        }
      },
      "execution_count": 12,
      "outputs": [
        {
          "output_type": "stream",
          "name": "stdout",
          "text": [
            "0.17197338093184888\n",
            "{'n_factors': 120, 'n_epochs': 20, 'lr_all': 0.005, 'reg_all': 0.2}\n"
          ]
        }
      ]
    },
    {
      "cell_type": "markdown",
      "source": [
        "#### **5.2. Analysis of Collaborative Filtering Model Results**<p>\n",
        "In this part, let's examine in detail the results obtained by the SVD model that provided the best RMSE score."
      ],
      "metadata": {
        "id": "ofTSkFkClCXr"
      }
    },
    {
      "cell_type": "code",
      "source": [
        "# Split dataset into train/test sets. Test set is made of 20% of the dataset.\n",
        "train_set, test_set = train_test_split(df, test_size=0.2)\n",
        "\n",
        "# Train the algorithm on the trainset, and predict ratings for the testset\n",
        "model_svd = SVD(n_factors=120, n_epochs=20, lr_all=0.005, reg_all=0.2)\n",
        "model_svd.fit(train_set)\n",
        "predictions = model_svd.test(test_set)\n"
      ],
      "metadata": {
        "id": "xt9WUdw8k59s"
      },
      "execution_count": 13,
      "outputs": []
    },
    {
      "cell_type": "code",
      "source": [
        "print('Accuracy on test data set,', end='   ')\n",
        "accuracy.rmse(predictions,verbose=True)\n"
      ],
      "metadata": {
        "id": "SxQueps2wCQw",
        "outputId": "41b04b9e-9d55-4135-a453-1fb6a830d1a5",
        "colab": {
          "base_uri": "https://localhost:8080/"
        }
      },
      "execution_count": 14,
      "outputs": [
        {
          "output_type": "stream",
          "name": "stdout",
          "text": [
            "Accuracy on test data set,   RMSE: 0.1629\n"
          ]
        },
        {
          "output_type": "execute_result",
          "data": {
            "text/plain": [
              "0.16286347834753118"
            ]
          },
          "metadata": {},
          "execution_count": 14
        }
      ]
    },
    {
      "cell_type": "code",
      "source": [
        "df_pred = pd.DataFrame(predictions, columns=['listing_id', 'reviewer_id', 'polarity_score' ,'pred_pol', 'details'])\n",
        "\n",
        "df_pred['impossible'] = df_pred['details'].apply(lambda x: x['was_impossible'])\n",
        "df_pred['pred_pol_round'] = df_pred['pred_pol'].round()\n",
        "df_pred['abs_err'] = abs(df_pred['pred_pol'] - df_pred['polarity_score'])\n",
        "df_pred.drop(['details'], axis=1, inplace=True)\n",
        "\n",
        "df_pred.sample(5)\n"
      ],
      "metadata": {
        "id": "dHdcRK8flvBy",
        "outputId": "af8907ca-b56e-48c5-bd86-e4de883dfd5d",
        "colab": {
          "base_uri": "https://localhost:8080/",
          "height": 206
        }
      },
      "execution_count": 17,
      "outputs": [
        {
          "output_type": "execute_result",
          "data": {
            "text/plain": [
              "       listing_id  reviewer_id  polarity_score  pred_pol  impossible  \\\n",
              "6770        24285      1164626          0.9715  0.894555       False   \n",
              "1717       126443     32541518          0.8720  0.798278       False   \n",
              "12557       10962      2619301          0.9937  0.967514       False   \n",
              "13735       58059     96216333          0.9884  0.885686       False   \n",
              "13978       62427      2359680          0.9723  0.929280       False   \n",
              "\n",
              "       pred_pol_round   abs_err  \n",
              "6770              1.0  0.076945  \n",
              "1717              1.0  0.073722  \n",
              "12557             1.0  0.026186  \n",
              "13735             1.0  0.102714  \n",
              "13978             1.0  0.043020  "
            ],
            "text/html": [
              "\n",
              "  <div id=\"df-53147894-b107-4bda-9c21-6d8dc72ce66c\">\n",
              "    <div class=\"colab-df-container\">\n",
              "      <div>\n",
              "<style scoped>\n",
              "    .dataframe tbody tr th:only-of-type {\n",
              "        vertical-align: middle;\n",
              "    }\n",
              "\n",
              "    .dataframe tbody tr th {\n",
              "        vertical-align: top;\n",
              "    }\n",
              "\n",
              "    .dataframe thead th {\n",
              "        text-align: right;\n",
              "    }\n",
              "</style>\n",
              "<table border=\"1\" class=\"dataframe\">\n",
              "  <thead>\n",
              "    <tr style=\"text-align: right;\">\n",
              "      <th></th>\n",
              "      <th>listing_id</th>\n",
              "      <th>reviewer_id</th>\n",
              "      <th>polarity_score</th>\n",
              "      <th>pred_pol</th>\n",
              "      <th>impossible</th>\n",
              "      <th>pred_pol_round</th>\n",
              "      <th>abs_err</th>\n",
              "    </tr>\n",
              "  </thead>\n",
              "  <tbody>\n",
              "    <tr>\n",
              "      <th>6770</th>\n",
              "      <td>24285</td>\n",
              "      <td>1164626</td>\n",
              "      <td>0.9715</td>\n",
              "      <td>0.894555</td>\n",
              "      <td>False</td>\n",
              "      <td>1.0</td>\n",
              "      <td>0.076945</td>\n",
              "    </tr>\n",
              "    <tr>\n",
              "      <th>1717</th>\n",
              "      <td>126443</td>\n",
              "      <td>32541518</td>\n",
              "      <td>0.8720</td>\n",
              "      <td>0.798278</td>\n",
              "      <td>False</td>\n",
              "      <td>1.0</td>\n",
              "      <td>0.073722</td>\n",
              "    </tr>\n",
              "    <tr>\n",
              "      <th>12557</th>\n",
              "      <td>10962</td>\n",
              "      <td>2619301</td>\n",
              "      <td>0.9937</td>\n",
              "      <td>0.967514</td>\n",
              "      <td>False</td>\n",
              "      <td>1.0</td>\n",
              "      <td>0.026186</td>\n",
              "    </tr>\n",
              "    <tr>\n",
              "      <th>13735</th>\n",
              "      <td>58059</td>\n",
              "      <td>96216333</td>\n",
              "      <td>0.9884</td>\n",
              "      <td>0.885686</td>\n",
              "      <td>False</td>\n",
              "      <td>1.0</td>\n",
              "      <td>0.102714</td>\n",
              "    </tr>\n",
              "    <tr>\n",
              "      <th>13978</th>\n",
              "      <td>62427</td>\n",
              "      <td>2359680</td>\n",
              "      <td>0.9723</td>\n",
              "      <td>0.929280</td>\n",
              "      <td>False</td>\n",
              "      <td>1.0</td>\n",
              "      <td>0.043020</td>\n",
              "    </tr>\n",
              "  </tbody>\n",
              "</table>\n",
              "</div>\n",
              "      <button class=\"colab-df-convert\" onclick=\"convertToInteractive('df-53147894-b107-4bda-9c21-6d8dc72ce66c')\"\n",
              "              title=\"Convert this dataframe to an interactive table.\"\n",
              "              style=\"display:none;\">\n",
              "        \n",
              "  <svg xmlns=\"http://www.w3.org/2000/svg\" height=\"24px\"viewBox=\"0 0 24 24\"\n",
              "       width=\"24px\">\n",
              "    <path d=\"M0 0h24v24H0V0z\" fill=\"none\"/>\n",
              "    <path d=\"M18.56 5.44l.94 2.06.94-2.06 2.06-.94-2.06-.94-.94-2.06-.94 2.06-2.06.94zm-11 1L8.5 8.5l.94-2.06 2.06-.94-2.06-.94L8.5 2.5l-.94 2.06-2.06.94zm10 10l.94 2.06.94-2.06 2.06-.94-2.06-.94-.94-2.06-.94 2.06-2.06.94z\"/><path d=\"M17.41 7.96l-1.37-1.37c-.4-.4-.92-.59-1.43-.59-.52 0-1.04.2-1.43.59L10.3 9.45l-7.72 7.72c-.78.78-.78 2.05 0 2.83L4 21.41c.39.39.9.59 1.41.59.51 0 1.02-.2 1.41-.59l7.78-7.78 2.81-2.81c.8-.78.8-2.07 0-2.86zM5.41 20L4 18.59l7.72-7.72 1.47 1.35L5.41 20z\"/>\n",
              "  </svg>\n",
              "      </button>\n",
              "      \n",
              "  <style>\n",
              "    .colab-df-container {\n",
              "      display:flex;\n",
              "      flex-wrap:wrap;\n",
              "      gap: 12px;\n",
              "    }\n",
              "\n",
              "    .colab-df-convert {\n",
              "      background-color: #E8F0FE;\n",
              "      border: none;\n",
              "      border-radius: 50%;\n",
              "      cursor: pointer;\n",
              "      display: none;\n",
              "      fill: #1967D2;\n",
              "      height: 32px;\n",
              "      padding: 0 0 0 0;\n",
              "      width: 32px;\n",
              "    }\n",
              "\n",
              "    .colab-df-convert:hover {\n",
              "      background-color: #E2EBFA;\n",
              "      box-shadow: 0px 1px 2px rgba(60, 64, 67, 0.3), 0px 1px 3px 1px rgba(60, 64, 67, 0.15);\n",
              "      fill: #174EA6;\n",
              "    }\n",
              "\n",
              "    [theme=dark] .colab-df-convert {\n",
              "      background-color: #3B4455;\n",
              "      fill: #D2E3FC;\n",
              "    }\n",
              "\n",
              "    [theme=dark] .colab-df-convert:hover {\n",
              "      background-color: #434B5C;\n",
              "      box-shadow: 0px 1px 3px 1px rgba(0, 0, 0, 0.15);\n",
              "      filter: drop-shadow(0px 1px 2px rgba(0, 0, 0, 0.3));\n",
              "      fill: #FFFFFF;\n",
              "    }\n",
              "  </style>\n",
              "\n",
              "      <script>\n",
              "        const buttonEl =\n",
              "          document.querySelector('#df-53147894-b107-4bda-9c21-6d8dc72ce66c button.colab-df-convert');\n",
              "        buttonEl.style.display =\n",
              "          google.colab.kernel.accessAllowed ? 'block' : 'none';\n",
              "\n",
              "        async function convertToInteractive(key) {\n",
              "          const element = document.querySelector('#df-53147894-b107-4bda-9c21-6d8dc72ce66c');\n",
              "          const dataTable =\n",
              "            await google.colab.kernel.invokeFunction('convertToInteractive',\n",
              "                                                     [key], {});\n",
              "          if (!dataTable) return;\n",
              "\n",
              "          const docLinkHtml = 'Like what you see? Visit the ' +\n",
              "            '<a target=\"_blank\" href=https://colab.research.google.com/notebooks/data_table.ipynb>data table notebook</a>'\n",
              "            + ' to learn more about interactive tables.';\n",
              "          element.innerHTML = '';\n",
              "          dataTable['output_type'] = 'display_data';\n",
              "          await google.colab.output.renderOutput(dataTable, element);\n",
              "          const docLink = document.createElement('div');\n",
              "          docLink.innerHTML = docLinkHtml;\n",
              "          element.appendChild(docLink);\n",
              "        }\n",
              "      </script>\n",
              "    </div>\n",
              "  </div>\n",
              "  "
            ]
          },
          "metadata": {},
          "execution_count": 17
        }
      ]
    },
    {
      "cell_type": "code",
      "source": [
        "plt.figure(figsize=(10,5))\n",
        "sns.scatterplot(data=df_pred, y='polarity_score', x='pred_pol', color='#9f4e4f')\n",
        "plt.title('Predicted v.s. True Polarity Scores',fontweight=\"bold\")\n",
        "plt.xlabel('Predicted Scores', fontweight=\"bold\")\n",
        "plt.ylabel('Actual Scores', fontweight=\"bold\");\n"
      ],
      "metadata": {
        "id": "LxxgdsFVm874",
        "outputId": "44ac3129-ae8b-4ca0-e260-ec03c4b95f0b",
        "colab": {
          "base_uri": "https://localhost:8080/",
          "height": 350
        }
      },
      "execution_count": 21,
      "outputs": [
        {
          "output_type": "display_data",
          "data": {
            "text/plain": [
              "<Figure size 720x360 with 1 Axes>"
            ],
            "image/png": "[encoded data removed]"
          },
          "metadata": {}
        }
      ]
    },
    {
      "cell_type": "code",
      "source": [
        "df_pred[df_pred['pred_pol'].notna()].sort_values('pred_pol', ascending=False).head(5)"
      ],
      "metadata": {
        "id": "Q81oHeehp2Sw",
        "outputId": "9dd51811-71a0-409e-d1d3-0488ffc0f174",
        "colab": {
          "base_uri": "https://localhost:8080/",
          "height": 206
        }
      },
      "execution_count": 38,
      "outputs": [
        {
          "output_type": "execute_result",
          "data": {
            "text/plain": [
              "       listing_id  reviewer_id  polarity_score  pred_pol  impossible  \\\n",
              "10317       53470       159014          0.9829  1.000000       False   \n",
              "13609       84010     22585386          0.9535  1.000000       False   \n",
              "2598        60457       290583          0.9665  0.998210       False   \n",
              "1619        60457       290583          0.9665  0.998210       False   \n",
              "2249        65425       140684          0.9796  0.990107       False   \n",
              "\n",
              "       pred_pol_round   abs_err  \n",
              "10317             1.0  0.017100  \n",
              "13609             1.0  0.046500  \n",
              "2598              1.0  0.031710  \n",
              "1619              1.0  0.031710  \n",
              "2249              1.0  0.010507  "
            ],
            "text/html": [
              "\n",
              "  <div id=\"df-9c8a1482-5ce3-4ce1-b842-a26e8429c6cc\">\n",
              "    <div class=\"colab-df-container\">\n",
              "      <div>\n",
              "<style scoped>\n",
              "    .dataframe tbody tr th:only-of-type {\n",
              "        vertical-align: middle;\n",
              "    }\n",
              "\n",
              "    .dataframe tbody tr th {\n",
              "        vertical-align: top;\n",
              "    }\n",
              "\n",
              "    .dataframe thead th {\n",
              "        text-align: right;\n",
              "    }\n",
              "</style>\n",
              "<table border=\"1\" class=\"dataframe\">\n",
              "  <thead>\n",
              "    <tr style=\"text-align: right;\">\n",
              "      <th></th>\n",
              "      <th>listing_id</th>\n",
              "      <th>reviewer_id</th>\n",
              "      <th>polarity_score</th>\n",
              "      <th>pred_pol</th>\n",
              "      <th>impossible</th>\n",
              "      <th>pred_pol_round</th>\n",
              "      <th>abs_err</th>\n",
              "    </tr>\n",
              "  </thead>\n",
              "  <tbody>\n",
              "    <tr>\n",
              "      <th>10317</th>\n",
              "      <td>53470</td>\n",
              "      <td>159014</td>\n",
              "      <td>0.9829</td>\n",
              "      <td>1.000000</td>\n",
              "      <td>False</td>\n",
              "      <td>1.0</td>\n",
              "      <td>0.017100</td>\n",
              "    </tr>\n",
              "    <tr>\n",
              "      <th>13609</th>\n",
              "      <td>84010</td>\n",
              "      <td>22585386</td>\n",
              "      <td>0.9535</td>\n",
              "      <td>1.000000</td>\n",
              "      <td>False</td>\n",
              "      <td>1.0</td>\n",
              "      <td>0.046500</td>\n",
              "    </tr>\n",
              "    <tr>\n",
              "      <th>2598</th>\n",
              "      <td>60457</td>\n",
              "      <td>290583</td>\n",
              "      <td>0.9665</td>\n",
              "      <td>0.998210</td>\n",
              "      <td>False</td>\n",
              "      <td>1.0</td>\n",
              "      <td>0.031710</td>\n",
              "    </tr>\n",
              "    <tr>\n",
              "      <th>1619</th>\n",
              "      <td>60457</td>\n",
              "      <td>290583</td>\n",
              "      <td>0.9665</td>\n",
              "      <td>0.998210</td>\n",
              "      <td>False</td>\n",
              "      <td>1.0</td>\n",
              "      <td>0.031710</td>\n",
              "    </tr>\n",
              "    <tr>\n",
              "      <th>2249</th>\n",
              "      <td>65425</td>\n",
              "      <td>140684</td>\n",
              "      <td>0.9796</td>\n",
              "      <td>0.990107</td>\n",
              "      <td>False</td>\n",
              "      <td>1.0</td>\n",
              "      <td>0.010507</td>\n",
              "    </tr>\n",
              "  </tbody>\n",
              "</table>\n",
              "</div>\n",
              "      <button class=\"colab-df-convert\" onclick=\"convertToInteractive('df-9c8a1482-5ce3-4ce1-b842-a26e8429c6cc')\"\n",
              "              title=\"Convert this dataframe to an interactive table.\"\n",
              "              style=\"display:none;\">\n",
              "        \n",
              "  <svg xmlns=\"http://www.w3.org/2000/svg\" height=\"24px\"viewBox=\"0 0 24 24\"\n",
              "       width=\"24px\">\n",
              "    <path d=\"M0 0h24v24H0V0z\" fill=\"none\"/>\n",
              "    <path d=\"M18.56 5.44l.94 2.06.94-2.06 2.06-.94-2.06-.94-.94-2.06-.94 2.06-2.06.94zm-11 1L8.5 8.5l.94-2.06 2.06-.94-2.06-.94L8.5 2.5l-.94 2.06-2.06.94zm10 10l.94 2.06.94-2.06 2.06-.94-2.06-.94-.94-2.06-.94 2.06-2.06.94z\"/><path d=\"M17.41 7.96l-1.37-1.37c-.4-.4-.92-.59-1.43-.59-.52 0-1.04.2-1.43.59L10.3 9.45l-7.72 7.72c-.78.78-.78 2.05 0 2.83L4 21.41c.39.39.9.59 1.41.59.51 0 1.02-.2 1.41-.59l7.78-7.78 2.81-2.81c.8-.78.8-2.07 0-2.86zM5.41 20L4 18.59l7.72-7.72 1.47 1.35L5.41 20z\"/>\n",
              "  </svg>\n",
              "      </button>\n",
              "      \n",
              "  <style>\n",
              "    .colab-df-container {\n",
              "      display:flex;\n",
              "      flex-wrap:wrap;\n",
              "      gap: 12px;\n",
              "    }\n",
              "\n",
              "    .colab-df-convert {\n",
              "      background-color: #E8F0FE;\n",
              "      border: none;\n",
              "      border-radius: 50%;\n",
              "      cursor: pointer;\n",
              "      display: none;\n",
              "      fill: #1967D2;\n",
              "      height: 32px;\n",
              "      padding: 0 0 0 0;\n",
              "      width: 32px;\n",
              "    }\n",
              "\n",
              "    .colab-df-convert:hover {\n",
              "      background-color: #E2EBFA;\n",
              "      box-shadow: 0px 1px 2px rgba(60, 64, 67, 0.3), 0px 1px 3px 1px rgba(60, 64, 67, 0.15);\n",
              "      fill: #174EA6;\n",
              "    }\n",
              "\n",
              "    [theme=dark] .colab-df-convert {\n",
              "      background-color: #3B4455;\n",
              "      fill: #D2E3FC;\n",
              "    }\n",
              "\n",
              "    [theme=dark] .colab-df-convert:hover {\n",
              "      background-color: #434B5C;\n",
              "      box-shadow: 0px 1px 3px 1px rgba(0, 0, 0, 0.15);\n",
              "      filter: drop-shadow(0px 1px 2px rgba(0, 0, 0, 0.3));\n",
              "      fill: #FFFFFF;\n",
              "    }\n",
              "  </style>\n",
              "\n",
              "      <script>\n",
              "        const buttonEl =\n",
              "          document.querySelector('#df-9c8a1482-5ce3-4ce1-b842-a26e8429c6cc button.colab-df-convert');\n",
              "        buttonEl.style.display =\n",
              "          google.colab.kernel.accessAllowed ? 'block' : 'none';\n",
              "\n",
              "        async function convertToInteractive(key) {\n",
              "          const element = document.querySelector('#df-9c8a1482-5ce3-4ce1-b842-a26e8429c6cc');\n",
              "          const dataTable =\n",
              "            await google.colab.kernel.invokeFunction('convertToInteractive',\n",
              "                                                     [key], {});\n",
              "          if (!dataTable) return;\n",
              "\n",
              "          const docLinkHtml = 'Like what you see? Visit the ' +\n",
              "            '<a target=\"_blank\" href=https://colab.research.google.com/notebooks/data_table.ipynb>data table notebook</a>'\n",
              "            + ' to learn more about interactive tables.';\n",
              "          element.innerHTML = '';\n",
              "          dataTable['output_type'] = 'display_data';\n",
              "          await google.colab.output.renderOutput(dataTable, element);\n",
              "          const docLink = document.createElement('div');\n",
              "          docLink.innerHTML = docLinkHtml;\n",
              "          element.appendChild(docLink);\n",
              "        }\n",
              "      </script>\n",
              "    </div>\n",
              "  </div>\n",
              "  "
            ]
          },
          "metadata": {},
          "execution_count": 38
        }
      ]
    },
    {
      "cell_type": "markdown",
      "source": [
        "#### **5.3.  Recommend listings for up to 10 Users**"
      ],
      "metadata": {
        "id": "k5Truc8Tihem"
      }
    },
    {
      "cell_type": "code",
      "source": [
        "predictions[1]"
      ],
      "metadata": {
        "id": "_2HN5-1on9nC",
        "outputId": "74252b90-8bc4-4ca7-974f-7feeb45cf5a2",
        "colab": {
          "base_uri": "https://localhost:8080/"
        }
      },
      "execution_count": 25,
      "outputs": [
        {
          "output_type": "execute_result",
          "data": {
            "text/plain": [
              "Prediction(uid=12192, iid=52696, r_ui=0.9868, est=0.8800256120553356, details={'was_impossible': False})"
            ]
          },
          "metadata": {},
          "execution_count": 25
        }
      ]
    },
    {
      "cell_type": "code",
      "source": [
        "from collections import defaultdict\n",
        "def get_top_recommendations(predictions, top_n ):\n",
        "     \n",
        "    top_recomm = defaultdict(list)\n",
        "    for uid, iid, true_r, est, _ in predictions:\n",
        "        top_recomm[uid].append((iid, est))\n",
        "     \n",
        "    for uid, user_ratings in top_recomm.items():\n",
        "        user_ratings.sort(key = lambda x: x[1], reverse = True)\n",
        "        top_recomm[uid] = user_ratings[:top_n]    \n",
        "    return top_recomm"
      ],
      "metadata": {
        "id": "6HusPjWuulGR"
      },
      "execution_count": 26,
      "outputs": []
    },
    {
      "cell_type": "code",
      "source": [
        "df_ex = get_top_recommendations(predictions,1)"
      ],
      "metadata": {
        "id": "Wy7Mz-7TvrH7"
      },
      "execution_count": 43,
      "outputs": []
    },
    {
      "cell_type": "code",
      "source": [
        "df_top = pd.DataFrame(columns=['user_id', 'recommended_listing -  score'])\n",
        "i=0;\n",
        "for uid, user_ratings in df_ex.items():\n",
        "    #print(uid, top3_recommendations[uid])\n",
        "    row = [uid, df_ex[uid]]\n",
        "    df_top.loc[i] = row\n",
        "    i=i+1"
      ],
      "metadata": {
        "id": "R3wM_IuOwkBx"
      },
      "execution_count": 46,
      "outputs": []
    },
    {
      "cell_type": "code",
      "source": [
        "df_top.head(10)"
      ],
      "metadata": {
        "id": "0eBe6wNcxtqf",
        "outputId": "3a1489c7-375e-4453-c1a1-d062cd73390f",
        "colab": {
          "base_uri": "https://localhost:8080/",
          "height": 363
        }
      },
      "execution_count": 49,
      "outputs": [
        {
          "output_type": "execute_result",
          "data": {
            "text/plain": [
              "  user_id     recommended_listing -  score\n",
              "0   65425   [(140684, 0.9901070001691519)]\n",
              "1   12192   [(504513, 0.8895133763758871)]\n",
              "2   26785   [(5048661, 0.960613585255367)]\n",
              "3   45936  [(6341938, 0.9078099828569064)]\n",
              "4   16595    [(97130, 0.9265327691257963)]\n",
              "5   38663  [(6364722, 0.9210822262482603)]\n",
              "6   14314    [(63563, 0.9375356210693635)]\n",
              "7   64365  [(43889727, 0.923928927426699)]\n",
              "8   39572   [(950389, 0.9224122212787231)]\n",
              "9   62427   [(9604553, 0.945914295478733)]"
            ],
            "text/html": [
              "\n",
              "  <div id=\"df-7d3116bb-de07-4b7e-bcc6-ecc72cd333f0\">\n",
              "    <div class=\"colab-df-container\">\n",
              "      <div>\n",
              "<style scoped>\n",
              "    .dataframe tbody tr th:only-of-type {\n",
              "        vertical-align: middle;\n",
              "    }\n",
              "\n",
              "    .dataframe tbody tr th {\n",
              "        vertical-align: top;\n",
              "    }\n",
              "\n",
              "    .dataframe thead th {\n",
              "        text-align: right;\n",
              "    }\n",
              "</style>\n",
              "<table border=\"1\" class=\"dataframe\">\n",
              "  <thead>\n",
              "    <tr style=\"text-align: right;\">\n",
              "      <th></th>\n",
              "      <th>user_id</th>\n",
              "      <th>recommended_listing -  score</th>\n",
              "    </tr>\n",
              "  </thead>\n",
              "  <tbody>\n",
              "    <tr>\n",
              "      <th>0</th>\n",
              "      <td>65425</td>\n",
              "      <td>[(140684, 0.9901070001691519)]</td>\n",
              "    </tr>\n",
              "    <tr>\n",
              "      <th>1</th>\n",
              "      <td>12192</td>\n",
              "      <td>[(504513, 0.8895133763758871)]</td>\n",
              "    </tr>\n",
              "    <tr>\n",
              "      <th>2</th>\n",
              "      <td>26785</td>\n",
              "      <td>[(5048661, 0.960613585255367)]</td>\n",
              "    </tr>\n",
              "    <tr>\n",
              "      <th>3</th>\n",
              "      <td>45936</td>\n",
              "      <td>[(6341938, 0.9078099828569064)]</td>\n",
              "    </tr>\n",
              "    <tr>\n",
              "      <th>4</th>\n",
              "      <td>16595</td>\n",
              "      <td>[(97130, 0.9265327691257963)]</td>\n",
              "    </tr>\n",
              "    <tr>\n",
              "      <th>5</th>\n",
              "      <td>38663</td>\n",
              "      <td>[(6364722, 0.9210822262482603)]</td>\n",
              "    </tr>\n",
              "    <tr>\n",
              "      <th>6</th>\n",
              "      <td>14314</td>\n",
              "      <td>[(63563, 0.9375356210693635)]</td>\n",
              "    </tr>\n",
              "    <tr>\n",
              "      <th>7</th>\n",
              "      <td>64365</td>\n",
              "      <td>[(43889727, 0.923928927426699)]</td>\n",
              "    </tr>\n",
              "    <tr>\n",
              "      <th>8</th>\n",
              "      <td>39572</td>\n",
              "      <td>[(950389, 0.9224122212787231)]</td>\n",
              "    </tr>\n",
              "    <tr>\n",
              "      <th>9</th>\n",
              "      <td>62427</td>\n",
              "      <td>[(9604553, 0.945914295478733)]</td>\n",
              "    </tr>\n",
              "  </tbody>\n",
              "</table>\n",
              "</div>\n",
              "      <button class=\"colab-df-convert\" onclick=\"convertToInteractive('df-7d3116bb-de07-4b7e-bcc6-ecc72cd333f0')\"\n",
              "              title=\"Convert this dataframe to an interactive table.\"\n",
              "              style=\"display:none;\">\n",
              "        \n",
              "  <svg xmlns=\"http://www.w3.org/2000/svg\" height=\"24px\"viewBox=\"0 0 24 24\"\n",
              "       width=\"24px\">\n",
              "    <path d=\"M0 0h24v24H0V0z\" fill=\"none\"/>\n",
              "    <path d=\"M18.56 5.44l.94 2.06.94-2.06 2.06-.94-2.06-.94-.94-2.06-.94 2.06-2.06.94zm-11 1L8.5 8.5l.94-2.06 2.06-.94-2.06-.94L8.5 2.5l-.94 2.06-2.06.94zm10 10l.94 2.06.94-2.06 2.06-.94-2.06-.94-.94-2.06-.94 2.06-2.06.94z\"/><path d=\"M17.41 7.96l-1.37-1.37c-.4-.4-.92-.59-1.43-.59-.52 0-1.04.2-1.43.59L10.3 9.45l-7.72 7.72c-.78.78-.78 2.05 0 2.83L4 21.41c.39.39.9.59 1.41.59.51 0 1.02-.2 1.41-.59l7.78-7.78 2.81-2.81c.8-.78.8-2.07 0-2.86zM5.41 20L4 18.59l7.72-7.72 1.47 1.35L5.41 20z\"/>\n",
              "  </svg>\n",
              "      </button>\n",
              "      \n",
              "  <style>\n",
              "    .colab-df-container {\n",
              "      display:flex;\n",
              "      flex-wrap:wrap;\n",
              "      gap: 12px;\n",
              "    }\n",
              "\n",
              "    .colab-df-convert {\n",
              "      background-color: #E8F0FE;\n",
              "      border: none;\n",
              "      border-radius: 50%;\n",
              "      cursor: pointer;\n",
              "      display: none;\n",
              "      fill: #1967D2;\n",
              "      height: 32px;\n",
              "      padding: 0 0 0 0;\n",
              "      width: 32px;\n",
              "    }\n",
              "\n",
              "    .colab-df-convert:hover {\n",
              "      background-color: #E2EBFA;\n",
              "      box-shadow: 0px 1px 2px rgba(60, 64, 67, 0.3), 0px 1px 3px 1px rgba(60, 64, 67, 0.15);\n",
              "      fill: #174EA6;\n",
              "    }\n",
              "\n",
              "    [theme=dark] .colab-df-convert {\n",
              "      background-color: #3B4455;\n",
              "      fill: #D2E3FC;\n",
              "    }\n",
              "\n",
              "    [theme=dark] .colab-df-convert:hover {\n",
              "      background-color: #434B5C;\n",
              "      box-shadow: 0px 1px 3px 1px rgba(0, 0, 0, 0.15);\n",
              "      filter: drop-shadow(0px 1px 2px rgba(0, 0, 0, 0.3));\n",
              "      fill: #FFFFFF;\n",
              "    }\n",
              "  </style>\n",
              "\n",
              "      <script>\n",
              "        const buttonEl =\n",
              "          document.querySelector('#df-7d3116bb-de07-4b7e-bcc6-ecc72cd333f0 button.colab-df-convert');\n",
              "        buttonEl.style.display =\n",
              "          google.colab.kernel.accessAllowed ? 'block' : 'none';\n",
              "\n",
              "        async function convertToInteractive(key) {\n",
              "          const element = document.querySelector('#df-7d3116bb-de07-4b7e-bcc6-ecc72cd333f0');\n",
              "          const dataTable =\n",
              "            await google.colab.kernel.invokeFunction('convertToInteractive',\n",
              "                                                     [key], {});\n",
              "          if (!dataTable) return;\n",
              "\n",
              "          const docLinkHtml = 'Like what you see? Visit the ' +\n",
              "            '<a target=\"_blank\" href=https://colab.research.google.com/notebooks/data_table.ipynb>data table notebook</a>'\n",
              "            + ' to learn more about interactive tables.';\n",
              "          element.innerHTML = '';\n",
              "          dataTable['output_type'] = 'display_data';\n",
              "          await google.colab.output.renderOutput(dataTable, element);\n",
              "          const docLink = document.createElement('div');\n",
              "          docLink.innerHTML = docLinkHtml;\n",
              "          element.appendChild(docLink);\n",
              "        }\n",
              "      </script>\n",
              "    </div>\n",
              "  </div>\n",
              "  "
            ]
          },
          "metadata": {},
          "execution_count": 49
        }
      ]
    }
  ]
}