{
  "nbformat": 4,
  "nbformat_minor": 0,
  "metadata": {
    "colab": {
      "provenance": [],
      "machine_shape": "hm",
      "include_colab_link": true
    },
    "kernelspec": {
      "name": "python3",
      "display_name": "Python 3"
    },
    "language_info": {
      "name": "python"
    },
    "accelerator": "GPU",
    "gpuClass": "standard"
  },
  "cells": [
    {
      "cell_type": "markdown",
      "metadata": {
        "id": "view-in-github",
        "colab_type": "text"
      },
      "source": [
        "<a href=\"https://colab.research.google.com/github/kamalova/NYC-Airbnb-Recommendation-Engine-NLP/blob/main/notebooks/Recommendation_Engine.ipynb\" target=\"_parent\"><img src=\"https://colab.research.google.com/assets/colab-badge.svg\" alt=\"Open In Colab\"/></a>"
      ]
    },
    {
      "cell_type": "markdown",
      "source": [
        "## **Airbnb Recommendation Engine for NYC through Sentiment Analysis**"
      ],
      "metadata": {
        "id": "f-YiN10LZssF"
      }
    },
    {
      "cell_type": "markdown",
      "source": [
        "**Table of Contents**<p>\n",
        "- Business Case\n",
        "- Aim of the Notebook\n",
        "- What is a Recommendation Engine\n",
        "- Data Understanding\n",
        "- Building Recommender Engine\n"
      ],
      "metadata": {
        "id": "DbUymc6OZxhw"
      }
    },
    {
      "cell_type": "markdown",
      "source": [
        "#### **1. Business Case**<p>\n",
        "**About Airbnb:** *You can host anything, anywhere, so guests can enjoy everything, everywhere.*<p>\n",
        "Nowadays the demand for short and long-term temporary accommodation is increasing thanks to easing travel conditions. This demand positively affects the number of online platforms that allow you to make reservations before traveling. **Airbnb** is one such platform, which allows travelers to make accommodation reservations based on the fact that the host leases all or part of his or her home to the traveler.<p>\n",
        "Customer reviews play an important role  in the customer’s decision to purchase a product or use a service. Customer preferences and opinions are affected by other customers’ reviews online, on blogs or over social networking \n",
        "platforms<p>\n",
        "The main goal of this work is to combine both \n",
        "recommendation system and sentiment analysis in order to \n",
        "recommend the most accurate listings  for users based on their preferences in **New York City**. Since both domains suffer from the lack of labeled data, to overcome that, this project detects the opinions polarity score using **NLTK VADER** (Valence Aware Dictionary and Sentiment Reasoner) Lexicon.\n",
        "\n",
        "We’ll therefore split our approaches into following sections:\n",
        "\n",
        "- Exploring available AirBnb listings in NYC\n",
        "- Measuring polarity/sentiment scores along with vader_lexicon. This polarity\n",
        "measurement adapts to *pos, neu, neg*, and compound. By simply taking the compound\n",
        "from these values, a new feature was created on the data.\n",
        "- Building a recommendation engine with Collaborative Filtering to predict sentiment score for all reviewer-listing pairs and making personalised recommendations for each user based on their ranked preferences."
      ],
      "metadata": {
        "id": "Tpcuv8pkZpjx"
      }
    },
    {
      "cell_type": "markdown",
      "source": [
        "#### **2. What is a Recommendation Engine?** <p>\n",
        "In general, recommendation engine consist of algorithms that can present\n",
        "similar elements to users. Recommended application, articles, videos, etc. It's about the user. It analyzes the user's previous habits and makes recommendations. Each item shown to the user has a ranking. This sequence is based on the recommended system and is created by examining the user's historical data. This system consists of two\n",
        "separate categories. \n",
        "**Content-Based (CB)** and **Collaborative Filtering (CF)** systems. <p>The CF\n",
        "method focuses on collecting and analyzing data on user behavior, activities, and preferences, to predict what a person will like, based on their similarity to other users.\n",
        "\n",
        "To plot and calculate these similarities, collaborative filtering uses a matrix style formula. An advantage of collaborative filtering is that it doesn’t need to analyze or understand the content (products, films, books). It simply picks items to recommend based on what they know about the user.\n",
        "\n",
        "[more](https://www.appier.com/en/blog/what-is-a-recommendation-engine-and-how-does-it-work)"
      ],
      "metadata": {
        "id": "-iUK_gTJdPvV"
      }
    },
    {
      "cell_type": "markdown",
      "source": [
        "#### **3. Aim of the Notebook**<p>\n",
        " This is the last Notebook  and last project section which aims to building a recommendation engine with Collaborative Filtering to predict sentiment score for all reviewer-listing pairs and make personalised recommendations for each user based on their ranked preferences."
      ],
      "metadata": {
        "id": "o0Rsv6p9aFtd"
      }
    },
    {
      "cell_type": "markdown",
      "source": [
        "#### **4. Data Understanding** <p>\n",
        "We will use the dataset of <mark> review_polarity</mark>  which was preprocessed during the Sentiment Analysis section. Let's dive deep into the most exciting part of the project. "
      ],
      "metadata": {
        "id": "xEX2CufMas4q"
      }
    },
    {
      "cell_type": "code",
      "execution_count": 281,
      "metadata": {
        "id": "ABgLfzqWbObp"
      },
      "outputs": [],
      "source": [
        "# Import necessary libraries\n",
        "import numpy as np\n",
        "import pandas as pd\n",
        "pd.set_option('display.max_colwidth', None)\n",
        "\n",
        "# Data visualization\n",
        "import seaborn as sns\n",
        "import matplotlib.pyplot as plt\n",
        "%matplotlib inline\n",
        "# Seaborn's beautiful styling\n",
        "import seaborn as sns\n",
        "# to get rid of the warnings\n",
        "import warnings\n",
        "warnings.filterwarnings(\"ignore\")\n",
        "sns.set_style('whitegrid')\n"
      ]
    },
    {
      "cell_type": "code",
      "source": [
        "%rm -rf sample_data/"
      ],
      "metadata": {
        "id": "x_Kdu0xvCtvz"
      },
      "execution_count": 9,
      "outputs": []
    },
    {
      "cell_type": "code",
      "source": [
        "# Load dataset\n",
        "df_reviews = pd.read_csv('/content/reviews_polarity.csv')\n",
        "df_reviews"
      ],
      "metadata": {
        "colab": {
          "base_uri": "https://localhost:8080/",
          "height": 1000
        },
        "id": "3TW8k12qDKmm",
        "outputId": "754b33b7-11eb-4e74-9310-cc8bfbb18568"
      },
      "execution_count": 268,
      "outputs": [
        {
          "output_type": "execute_result",
          "data": {
            "text/plain": [
              "       listing_id         id  reviewer_id reviewer_name  \\\n",
              "0            2595      19760        38960         Anita   \n",
              "1            2595      34320        71130       Kai-Uwe   \n",
              "2            2595      46312       117113        Alicia   \n",
              "3            2595    1238204      1783688        Sergey   \n",
              "4            2595    1293632      1870771          Loïc   \n",
              "...           ...        ...          ...           ...   \n",
              "70806       72265  161050979    109542482          John   \n",
              "70807       72265  163401732      1282541         Sofia   \n",
              "70808       72265  252657179      8936723            Yo   \n",
              "70809       72265  277084426     17160406       Ioannis   \n",
              "70810       72265  294169497    165490874          Elsa   \n",
              "\n",
              "                                                                                                                                                                                                                                                                                                                                                                                                                                                                                                                                                                                                                                                 comments  \\\n",
              "0                                                                                                                                                                    i ve stayed with my friend at the midtown castle for six days and it was a lovely place to be  a big spacious room with a pointy roof  which really makes you feel like staying in a castle  the location is perfect  it is just a few steps from macy s time square and theatre district  everything worked just perfect with the keys etc  thank you so much jennifer  we had a great time in new york  attention  it s on the   floor without a lift     but definetely worth it    \n",
              "1                                                                                                                                                                                                                                                                          we ve been staying here for about   nights  enjoying to be in the center of the city  that never sleeps   short ways to everywhere in manhattan  by subway or by walk  midtown castle is a beauftiful and tastful place  jennifer and tori relaxed and friendly hosts   thats why we   the three berliners   recommand that place  good to have wifi and a little kitchen too    \n",
              "2                                                                                                                                                                                                                                                                                                                                                                                                                                                                                             we had a wonderful stay at jennifer s charming apartment  they were very organized and helpful  i would definitely recommend staying at the midtown castle    \n",
              "3                                                              hi to everyone  would say our greatest compliments to jennifer  the host of midtown castle  we spent in this lovely apartment in the heart of manhattan one month  april     and will remember this time as ours best  the apartment is pretty spacious and great located   the   th ave right around the corner  there is everything you can need during your short or long stay  jennifer is very friendly  vigorous and very responsible host  thanks her and highly recomend this apartment for everyone who are looking for a quiet place right in the center of the boiling midtown    \n",
              "4                                                                                                                                                                                                                                                                                                                                                                                                                                            jennifer was very friendly and helpful  and her place is exactly as advertised  the location is very convenient  and it was a pleasure to stay at the midtown castle  i definitely recommend it     thanks     \n",
              "...                                                                                                                                                                                                                                                                                                                                                                                                                                                                                                                                                                                                                                                   ...   \n",
              "70806                                                                                                                                                                                                                                                                                                                                                                                                                                                                                                                                                                                          vanessa was very pleasant and communication was very good    \n",
              "70807                                                                                                                                                                                                                                                                                                                                                                                                                                                                                                                                                                                                                  great location  close to g train     \n",
              "70808  highly recommend   cannot beat this value   great location     minute walk to subway and   sec to bus which connects you easily and quickly to various parts of manhattan and brooklyn   organic  as well as regular  grocery stores and lots of awesome restaurants and stores near by   very safe neighborhoods nice room   not big but it s plenty enough and everything works well   it s nice   warm in the winter  even though the bedroom is separated by a curtain to the kitchen  because the host is mainly in the other section of the apartment  you have a lot of privacy   vanessa is a very friendly  interesting and helpful host    \n",
              "70809                                                                                                                                                                                                                                                                                                                                                                 vanessa is a great and very polite host and gives you as much privacy as you want  the room can be seen in the photos and has everything you need  the location is amazing as well with plenty of bars  restaurants and stores around and literally half a block away from g train    \n",
              "70810                                                                                                                                                                                                                                                                                                                                                     vanessa is a very hospitable and friendly person  i was able to interact with her a lot  the apartment is ideally located  the room very convenient  i have nothing to say except that i had a great time  and it was a great experience for me  thank you vanessa  i would definitely go back    \n",
              "\n",
              "       month    weekday language  text_length  polarity_score sentiment_type  \n",
              "0         12   Thursday       en          468          0.9274       Positive  \n",
              "1          4     Friday       en          366          0.9136       Positive  \n",
              "2          5    Tuesday       en          155          0.9409       Positive  \n",
              "3          5     Monday       en          570          0.9863       Positive  \n",
              "4          5   Thursday       en          204          0.9542       Positive  \n",
              "...      ...        ...      ...          ...             ...            ...  \n",
              "70806      6     Friday       en           58          0.7774       Positive  \n",
              "70807      6   Saturday       en           34          0.6249       Positive  \n",
              "70808      4  Wednesday       en          626          0.9870       Positive  \n",
              "70809      6     Friday       en          275          0.8126       Positive  \n",
              "70810      7   Saturday       en          287          0.9621       Positive  \n",
              "\n",
              "[70811 rows x 11 columns]"
            ],
            "text/html": [
              "\n",
              "  <div id=\"df-582bead4-6895-4000-99bd-a5794e5e118b\">\n",
              "    <div class=\"colab-df-container\">\n",
              "      <div>\n",
              "<style scoped>\n",
              "    .dataframe tbody tr th:only-of-type {\n",
              "        vertical-align: middle;\n",
              "    }\n",
              "\n",
              "    .dataframe tbody tr th {\n",
              "        vertical-align: top;\n",
              "    }\n",
              "\n",
              "    .dataframe thead th {\n",
              "        text-align: right;\n",
              "    }\n",
              "</style>\n",
              "<table border=\"1\" class=\"dataframe\">\n",
              "  <thead>\n",
              "    <tr style=\"text-align: right;\">\n",
              "      <th></th>\n",
              "      <th>listing_id</th>\n",
              "      <th>id</th>\n",
              "      <th>reviewer_id</th>\n",
              "      <th>reviewer_name</th>\n",
              "      <th>comments</th>\n",
              "      <th>month</th>\n",
              "      <th>weekday</th>\n",
              "      <th>language</th>\n",
              "      <th>text_length</th>\n",
              "      <th>polarity_score</th>\n",
              "      <th>sentiment_type</th>\n",
              "    </tr>\n",
              "  </thead>\n",
              "  <tbody>\n",
              "    <tr>\n",
              "      <th>0</th>\n",
              "      <td>2595</td>\n",
              "      <td>19760</td>\n",
              "      <td>38960</td>\n",
              "      <td>Anita</td>\n",
              "      <td>i ve stayed with my friend at the midtown castle for six days and it was a lovely place to be  a big spacious room with a pointy roof  which really makes you feel like staying in a castle  the location is perfect  it is just a few steps from macy s time square and theatre district  everything worked just perfect with the keys etc  thank you so much jennifer  we had a great time in new york  attention  it s on the   floor without a lift     but definetely worth it</td>\n",
              "      <td>12</td>\n",
              "      <td>Thursday</td>\n",
              "      <td>en</td>\n",
              "      <td>468</td>\n",
              "      <td>0.9274</td>\n",
              "      <td>Positive</td>\n",
              "    </tr>\n",
              "    <tr>\n",
              "      <th>1</th>\n",
              "      <td>2595</td>\n",
              "      <td>34320</td>\n",
              "      <td>71130</td>\n",
              "      <td>Kai-Uwe</td>\n",
              "      <td>we ve been staying here for about   nights  enjoying to be in the center of the city  that never sleeps   short ways to everywhere in manhattan  by subway or by walk  midtown castle is a beauftiful and tastful place  jennifer and tori relaxed and friendly hosts   thats why we   the three berliners   recommand that place  good to have wifi and a little kitchen too</td>\n",
              "      <td>4</td>\n",
              "      <td>Friday</td>\n",
              "      <td>en</td>\n",
              "      <td>366</td>\n",
              "      <td>0.9136</td>\n",
              "      <td>Positive</td>\n",
              "    </tr>\n",
              "    <tr>\n",
              "      <th>2</th>\n",
              "      <td>2595</td>\n",
              "      <td>46312</td>\n",
              "      <td>117113</td>\n",
              "      <td>Alicia</td>\n",
              "      <td>we had a wonderful stay at jennifer s charming apartment  they were very organized and helpful  i would definitely recommend staying at the midtown castle</td>\n",
              "      <td>5</td>\n",
              "      <td>Tuesday</td>\n",
              "      <td>en</td>\n",
              "      <td>155</td>\n",
              "      <td>0.9409</td>\n",
              "      <td>Positive</td>\n",
              "    </tr>\n",
              "    <tr>\n",
              "      <th>3</th>\n",
              "      <td>2595</td>\n",
              "      <td>1238204</td>\n",
              "      <td>1783688</td>\n",
              "      <td>Sergey</td>\n",
              "      <td>hi to everyone  would say our greatest compliments to jennifer  the host of midtown castle  we spent in this lovely apartment in the heart of manhattan one month  april     and will remember this time as ours best  the apartment is pretty spacious and great located   the   th ave right around the corner  there is everything you can need during your short or long stay  jennifer is very friendly  vigorous and very responsible host  thanks her and highly recomend this apartment for everyone who are looking for a quiet place right in the center of the boiling midtown</td>\n",
              "      <td>5</td>\n",
              "      <td>Monday</td>\n",
              "      <td>en</td>\n",
              "      <td>570</td>\n",
              "      <td>0.9863</td>\n",
              "      <td>Positive</td>\n",
              "    </tr>\n",
              "    <tr>\n",
              "      <th>4</th>\n",
              "      <td>2595</td>\n",
              "      <td>1293632</td>\n",
              "      <td>1870771</td>\n",
              "      <td>Loïc</td>\n",
              "      <td>jennifer was very friendly and helpful  and her place is exactly as advertised  the location is very convenient  and it was a pleasure to stay at the midtown castle  i definitely recommend it     thanks</td>\n",
              "      <td>5</td>\n",
              "      <td>Thursday</td>\n",
              "      <td>en</td>\n",
              "      <td>204</td>\n",
              "      <td>0.9542</td>\n",
              "      <td>Positive</td>\n",
              "    </tr>\n",
              "    <tr>\n",
              "      <th>...</th>\n",
              "      <td>...</td>\n",
              "      <td>...</td>\n",
              "      <td>...</td>\n",
              "      <td>...</td>\n",
              "      <td>...</td>\n",
              "      <td>...</td>\n",
              "      <td>...</td>\n",
              "      <td>...</td>\n",
              "      <td>...</td>\n",
              "      <td>...</td>\n",
              "      <td>...</td>\n",
              "    </tr>\n",
              "    <tr>\n",
              "      <th>70806</th>\n",
              "      <td>72265</td>\n",
              "      <td>161050979</td>\n",
              "      <td>109542482</td>\n",
              "      <td>John</td>\n",
              "      <td>vanessa was very pleasant and communication was very good</td>\n",
              "      <td>6</td>\n",
              "      <td>Friday</td>\n",
              "      <td>en</td>\n",
              "      <td>58</td>\n",
              "      <td>0.7774</td>\n",
              "      <td>Positive</td>\n",
              "    </tr>\n",
              "    <tr>\n",
              "      <th>70807</th>\n",
              "      <td>72265</td>\n",
              "      <td>163401732</td>\n",
              "      <td>1282541</td>\n",
              "      <td>Sofia</td>\n",
              "      <td>great location  close to g train</td>\n",
              "      <td>6</td>\n",
              "      <td>Saturday</td>\n",
              "      <td>en</td>\n",
              "      <td>34</td>\n",
              "      <td>0.6249</td>\n",
              "      <td>Positive</td>\n",
              "    </tr>\n",
              "    <tr>\n",
              "      <th>70808</th>\n",
              "      <td>72265</td>\n",
              "      <td>252657179</td>\n",
              "      <td>8936723</td>\n",
              "      <td>Yo</td>\n",
              "      <td>highly recommend   cannot beat this value   great location     minute walk to subway and   sec to bus which connects you easily and quickly to various parts of manhattan and brooklyn   organic  as well as regular  grocery stores and lots of awesome restaurants and stores near by   very safe neighborhoods nice room   not big but it s plenty enough and everything works well   it s nice   warm in the winter  even though the bedroom is separated by a curtain to the kitchen  because the host is mainly in the other section of the apartment  you have a lot of privacy   vanessa is a very friendly  interesting and helpful host</td>\n",
              "      <td>4</td>\n",
              "      <td>Wednesday</td>\n",
              "      <td>en</td>\n",
              "      <td>626</td>\n",
              "      <td>0.9870</td>\n",
              "      <td>Positive</td>\n",
              "    </tr>\n",
              "    <tr>\n",
              "      <th>70809</th>\n",
              "      <td>72265</td>\n",
              "      <td>277084426</td>\n",
              "      <td>17160406</td>\n",
              "      <td>Ioannis</td>\n",
              "      <td>vanessa is a great and very polite host and gives you as much privacy as you want  the room can be seen in the photos and has everything you need  the location is amazing as well with plenty of bars  restaurants and stores around and literally half a block away from g train</td>\n",
              "      <td>6</td>\n",
              "      <td>Friday</td>\n",
              "      <td>en</td>\n",
              "      <td>275</td>\n",
              "      <td>0.8126</td>\n",
              "      <td>Positive</td>\n",
              "    </tr>\n",
              "    <tr>\n",
              "      <th>70810</th>\n",
              "      <td>72265</td>\n",
              "      <td>294169497</td>\n",
              "      <td>165490874</td>\n",
              "      <td>Elsa</td>\n",
              "      <td>vanessa is a very hospitable and friendly person  i was able to interact with her a lot  the apartment is ideally located  the room very convenient  i have nothing to say except that i had a great time  and it was a great experience for me  thank you vanessa  i would definitely go back</td>\n",
              "      <td>7</td>\n",
              "      <td>Saturday</td>\n",
              "      <td>en</td>\n",
              "      <td>287</td>\n",
              "      <td>0.9621</td>\n",
              "      <td>Positive</td>\n",
              "    </tr>\n",
              "  </tbody>\n",
              "</table>\n",
              "<p>70811 rows × 11 columns</p>\n",
              "</div>\n",
              "      <button class=\"colab-df-convert\" onclick=\"convertToInteractive('df-582bead4-6895-4000-99bd-a5794e5e118b')\"\n",
              "              title=\"Convert this dataframe to an interactive table.\"\n",
              "              style=\"display:none;\">\n",
              "        \n",
              "  <svg xmlns=\"http://www.w3.org/2000/svg\" height=\"24px\"viewBox=\"0 0 24 24\"\n",
              "       width=\"24px\">\n",
              "    <path d=\"M0 0h24v24H0V0z\" fill=\"none\"/>\n",
              "    <path d=\"M18.56 5.44l.94 2.06.94-2.06 2.06-.94-2.06-.94-.94-2.06-.94 2.06-2.06.94zm-11 1L8.5 8.5l.94-2.06 2.06-.94-2.06-.94L8.5 2.5l-.94 2.06-2.06.94zm10 10l.94 2.06.94-2.06 2.06-.94-2.06-.94-.94-2.06-.94 2.06-2.06.94z\"/><path d=\"M17.41 7.96l-1.37-1.37c-.4-.4-.92-.59-1.43-.59-.52 0-1.04.2-1.43.59L10.3 9.45l-7.72 7.72c-.78.78-.78 2.05 0 2.83L4 21.41c.39.39.9.59 1.41.59.51 0 1.02-.2 1.41-.59l7.78-7.78 2.81-2.81c.8-.78.8-2.07 0-2.86zM5.41 20L4 18.59l7.72-7.72 1.47 1.35L5.41 20z\"/>\n",
              "  </svg>\n",
              "      </button>\n",
              "      \n",
              "  <style>\n",
              "    .colab-df-container {\n",
              "      display:flex;\n",
              "      flex-wrap:wrap;\n",
              "      gap: 12px;\n",
              "    }\n",
              "\n",
              "    .colab-df-convert {\n",
              "      background-color: #E8F0FE;\n",
              "      border: none;\n",
              "      border-radius: 50%;\n",
              "      cursor: pointer;\n",
              "      display: none;\n",
              "      fill: #1967D2;\n",
              "      height: 32px;\n",
              "      padding: 0 0 0 0;\n",
              "      width: 32px;\n",
              "    }\n",
              "\n",
              "    .colab-df-convert:hover {\n",
              "      background-color: #E2EBFA;\n",
              "      box-shadow: 0px 1px 2px rgba(60, 64, 67, 0.3), 0px 1px 3px 1px rgba(60, 64, 67, 0.15);\n",
              "      fill: #174EA6;\n",
              "    }\n",
              "\n",
              "    [theme=dark] .colab-df-convert {\n",
              "      background-color: #3B4455;\n",
              "      fill: #D2E3FC;\n",
              "    }\n",
              "\n",
              "    [theme=dark] .colab-df-convert:hover {\n",
              "      background-color: #434B5C;\n",
              "      box-shadow: 0px 1px 3px 1px rgba(0, 0, 0, 0.15);\n",
              "      filter: drop-shadow(0px 1px 2px rgba(0, 0, 0, 0.3));\n",
              "      fill: #FFFFFF;\n",
              "    }\n",
              "  </style>\n",
              "\n",
              "      <script>\n",
              "        const buttonEl =\n",
              "          document.querySelector('#df-582bead4-6895-4000-99bd-a5794e5e118b button.colab-df-convert');\n",
              "        buttonEl.style.display =\n",
              "          google.colab.kernel.accessAllowed ? 'block' : 'none';\n",
              "\n",
              "        async function convertToInteractive(key) {\n",
              "          const element = document.querySelector('#df-582bead4-6895-4000-99bd-a5794e5e118b');\n",
              "          const dataTable =\n",
              "            await google.colab.kernel.invokeFunction('convertToInteractive',\n",
              "                                                     [key], {});\n",
              "          if (!dataTable) return;\n",
              "\n",
              "          const docLinkHtml = 'Like what you see? Visit the ' +\n",
              "            '<a target=\"_blank\" href=https://colab.research.google.com/notebooks/data_table.ipynb>data table notebook</a>'\n",
              "            + ' to learn more about interactive tables.';\n",
              "          element.innerHTML = '';\n",
              "          dataTable['output_type'] = 'display_data';\n",
              "          await google.colab.output.renderOutput(dataTable, element);\n",
              "          const docLink = document.createElement('div');\n",
              "          docLink.innerHTML = docLinkHtml;\n",
              "          element.appendChild(docLink);\n",
              "        }\n",
              "      </script>\n",
              "    </div>\n",
              "  </div>\n",
              "  "
            ]
          },
          "metadata": {},
          "execution_count": 268
        }
      ]
    },
    {
      "cell_type": "code",
      "source": [
        "# Print dataFrame columns\n",
        "df_reviews.columns"
      ],
      "metadata": {
        "id": "_AyHf0uEedXc",
        "outputId": "d764fff9-0ab8-41d4-ee98-f3407b0714c0",
        "colab": {
          "base_uri": "https://localhost:8080/"
        }
      },
      "execution_count": 11,
      "outputs": [
        {
          "output_type": "execute_result",
          "data": {
            "text/plain": [
              "Index(['listing_id', 'id', 'reviewer_id', 'reviewer_name', 'comments', 'month',\n",
              "       'weekday', 'language', 'text_length', 'polarity_score',\n",
              "       'sentiment_type'],\n",
              "      dtype='object')"
            ]
          },
          "metadata": {},
          "execution_count": 11
        }
      ]
    },
    {
      "cell_type": "code",
      "source": [
        "# Drop unnecessary columns\n",
        "df_reviews.drop(columns=['id','comments','month','weekday','language','text_length'],inplace=True)"
      ],
      "metadata": {
        "id": "EPiKGGOjeuMX"
      },
      "execution_count": 269,
      "outputs": []
    },
    {
      "cell_type": "code",
      "source": [
        "df_reviews"
      ],
      "metadata": {
        "id": "X8cR6xv3qc_V",
        "outputId": "99d1d4f3-cf59-4b78-9a91-c8f9d7d60ef6",
        "colab": {
          "base_uri": "https://localhost:8080/",
          "height": 424
        }
      },
      "execution_count": 270,
      "outputs": [
        {
          "output_type": "execute_result",
          "data": {
            "text/plain": [
              "       listing_id  reviewer_id reviewer_name  polarity_score sentiment_type\n",
              "0            2595        38960         Anita          0.9274       Positive\n",
              "1            2595        71130       Kai-Uwe          0.9136       Positive\n",
              "2            2595       117113        Alicia          0.9409       Positive\n",
              "3            2595      1783688        Sergey          0.9863       Positive\n",
              "4            2595      1870771          Loïc          0.9542       Positive\n",
              "...           ...          ...           ...             ...            ...\n",
              "70806       72265    109542482          John          0.7774       Positive\n",
              "70807       72265      1282541         Sofia          0.6249       Positive\n",
              "70808       72265      8936723            Yo          0.9870       Positive\n",
              "70809       72265     17160406       Ioannis          0.8126       Positive\n",
              "70810       72265    165490874          Elsa          0.9621       Positive\n",
              "\n",
              "[70811 rows x 5 columns]"
            ],
            "text/html": [
              "\n",
              "  <div id=\"df-03ad8069-557f-4283-acf8-a1008e0e6da1\">\n",
              "    <div class=\"colab-df-container\">\n",
              "      <div>\n",
              "<style scoped>\n",
              "    .dataframe tbody tr th:only-of-type {\n",
              "        vertical-align: middle;\n",
              "    }\n",
              "\n",
              "    .dataframe tbody tr th {\n",
              "        vertical-align: top;\n",
              "    }\n",
              "\n",
              "    .dataframe thead th {\n",
              "        text-align: right;\n",
              "    }\n",
              "</style>\n",
              "<table border=\"1\" class=\"dataframe\">\n",
              "  <thead>\n",
              "    <tr style=\"text-align: right;\">\n",
              "      <th></th>\n",
              "      <th>listing_id</th>\n",
              "      <th>reviewer_id</th>\n",
              "      <th>reviewer_name</th>\n",
              "      <th>polarity_score</th>\n",
              "      <th>sentiment_type</th>\n",
              "    </tr>\n",
              "  </thead>\n",
              "  <tbody>\n",
              "    <tr>\n",
              "      <th>0</th>\n",
              "      <td>2595</td>\n",
              "      <td>38960</td>\n",
              "      <td>Anita</td>\n",
              "      <td>0.9274</td>\n",
              "      <td>Positive</td>\n",
              "    </tr>\n",
              "    <tr>\n",
              "      <th>1</th>\n",
              "      <td>2595</td>\n",
              "      <td>71130</td>\n",
              "      <td>Kai-Uwe</td>\n",
              "      <td>0.9136</td>\n",
              "      <td>Positive</td>\n",
              "    </tr>\n",
              "    <tr>\n",
              "      <th>2</th>\n",
              "      <td>2595</td>\n",
              "      <td>117113</td>\n",
              "      <td>Alicia</td>\n",
              "      <td>0.9409</td>\n",
              "      <td>Positive</td>\n",
              "    </tr>\n",
              "    <tr>\n",
              "      <th>3</th>\n",
              "      <td>2595</td>\n",
              "      <td>1783688</td>\n",
              "      <td>Sergey</td>\n",
              "      <td>0.9863</td>\n",
              "      <td>Positive</td>\n",
              "    </tr>\n",
              "    <tr>\n",
              "      <th>4</th>\n",
              "      <td>2595</td>\n",
              "      <td>1870771</td>\n",
              "      <td>Loïc</td>\n",
              "      <td>0.9542</td>\n",
              "      <td>Positive</td>\n",
              "    </tr>\n",
              "    <tr>\n",
              "      <th>...</th>\n",
              "      <td>...</td>\n",
              "      <td>...</td>\n",
              "      <td>...</td>\n",
              "      <td>...</td>\n",
              "      <td>...</td>\n",
              "    </tr>\n",
              "    <tr>\n",
              "      <th>70806</th>\n",
              "      <td>72265</td>\n",
              "      <td>109542482</td>\n",
              "      <td>John</td>\n",
              "      <td>0.7774</td>\n",
              "      <td>Positive</td>\n",
              "    </tr>\n",
              "    <tr>\n",
              "      <th>70807</th>\n",
              "      <td>72265</td>\n",
              "      <td>1282541</td>\n",
              "      <td>Sofia</td>\n",
              "      <td>0.6249</td>\n",
              "      <td>Positive</td>\n",
              "    </tr>\n",
              "    <tr>\n",
              "      <th>70808</th>\n",
              "      <td>72265</td>\n",
              "      <td>8936723</td>\n",
              "      <td>Yo</td>\n",
              "      <td>0.9870</td>\n",
              "      <td>Positive</td>\n",
              "    </tr>\n",
              "    <tr>\n",
              "      <th>70809</th>\n",
              "      <td>72265</td>\n",
              "      <td>17160406</td>\n",
              "      <td>Ioannis</td>\n",
              "      <td>0.8126</td>\n",
              "      <td>Positive</td>\n",
              "    </tr>\n",
              "    <tr>\n",
              "      <th>70810</th>\n",
              "      <td>72265</td>\n",
              "      <td>165490874</td>\n",
              "      <td>Elsa</td>\n",
              "      <td>0.9621</td>\n",
              "      <td>Positive</td>\n",
              "    </tr>\n",
              "  </tbody>\n",
              "</table>\n",
              "<p>70811 rows × 5 columns</p>\n",
              "</div>\n",
              "      <button class=\"colab-df-convert\" onclick=\"convertToInteractive('df-03ad8069-557f-4283-acf8-a1008e0e6da1')\"\n",
              "              title=\"Convert this dataframe to an interactive table.\"\n",
              "              style=\"display:none;\">\n",
              "        \n",
              "  <svg xmlns=\"http://www.w3.org/2000/svg\" height=\"24px\"viewBox=\"0 0 24 24\"\n",
              "       width=\"24px\">\n",
              "    <path d=\"M0 0h24v24H0V0z\" fill=\"none\"/>\n",
              "    <path d=\"M18.56 5.44l.94 2.06.94-2.06 2.06-.94-2.06-.94-.94-2.06-.94 2.06-2.06.94zm-11 1L8.5 8.5l.94-2.06 2.06-.94-2.06-.94L8.5 2.5l-.94 2.06-2.06.94zm10 10l.94 2.06.94-2.06 2.06-.94-2.06-.94-.94-2.06-.94 2.06-2.06.94z\"/><path d=\"M17.41 7.96l-1.37-1.37c-.4-.4-.92-.59-1.43-.59-.52 0-1.04.2-1.43.59L10.3 9.45l-7.72 7.72c-.78.78-.78 2.05 0 2.83L4 21.41c.39.39.9.59 1.41.59.51 0 1.02-.2 1.41-.59l7.78-7.78 2.81-2.81c.8-.78.8-2.07 0-2.86zM5.41 20L4 18.59l7.72-7.72 1.47 1.35L5.41 20z\"/>\n",
              "  </svg>\n",
              "      </button>\n",
              "      \n",
              "  <style>\n",
              "    .colab-df-container {\n",
              "      display:flex;\n",
              "      flex-wrap:wrap;\n",
              "      gap: 12px;\n",
              "    }\n",
              "\n",
              "    .colab-df-convert {\n",
              "      background-color: #E8F0FE;\n",
              "      border: none;\n",
              "      border-radius: 50%;\n",
              "      cursor: pointer;\n",
              "      display: none;\n",
              "      fill: #1967D2;\n",
              "      height: 32px;\n",
              "      padding: 0 0 0 0;\n",
              "      width: 32px;\n",
              "    }\n",
              "\n",
              "    .colab-df-convert:hover {\n",
              "      background-color: #E2EBFA;\n",
              "      box-shadow: 0px 1px 2px rgba(60, 64, 67, 0.3), 0px 1px 3px 1px rgba(60, 64, 67, 0.15);\n",
              "      fill: #174EA6;\n",
              "    }\n",
              "\n",
              "    [theme=dark] .colab-df-convert {\n",
              "      background-color: #3B4455;\n",
              "      fill: #D2E3FC;\n",
              "    }\n",
              "\n",
              "    [theme=dark] .colab-df-convert:hover {\n",
              "      background-color: #434B5C;\n",
              "      box-shadow: 0px 1px 3px 1px rgba(0, 0, 0, 0.15);\n",
              "      filter: drop-shadow(0px 1px 2px rgba(0, 0, 0, 0.3));\n",
              "      fill: #FFFFFF;\n",
              "    }\n",
              "  </style>\n",
              "\n",
              "      <script>\n",
              "        const buttonEl =\n",
              "          document.querySelector('#df-03ad8069-557f-4283-acf8-a1008e0e6da1 button.colab-df-convert');\n",
              "        buttonEl.style.display =\n",
              "          google.colab.kernel.accessAllowed ? 'block' : 'none';\n",
              "\n",
              "        async function convertToInteractive(key) {\n",
              "          const element = document.querySelector('#df-03ad8069-557f-4283-acf8-a1008e0e6da1');\n",
              "          const dataTable =\n",
              "            await google.colab.kernel.invokeFunction('convertToInteractive',\n",
              "                                                     [key], {});\n",
              "          if (!dataTable) return;\n",
              "\n",
              "          const docLinkHtml = 'Like what you see? Visit the ' +\n",
              "            '<a target=\"_blank\" href=https://colab.research.google.com/notebooks/data_table.ipynb>data table notebook</a>'\n",
              "            + ' to learn more about interactive tables.';\n",
              "          element.innerHTML = '';\n",
              "          dataTable['output_type'] = 'display_data';\n",
              "          await google.colab.output.renderOutput(dataTable, element);\n",
              "          const docLink = document.createElement('div');\n",
              "          docLink.innerHTML = docLinkHtml;\n",
              "          element.appendChild(docLink);\n",
              "        }\n",
              "      </script>\n",
              "    </div>\n",
              "  </div>\n",
              "  "
            ]
          },
          "metadata": {},
          "execution_count": 270
        }
      ]
    },
    {
      "cell_type": "code",
      "source": [
        "df_reviews.polarity_score.describe()"
      ],
      "metadata": {
        "id": "B3AlvoKxfATX",
        "outputId": "2a4adde6-7223-4109-8a28-0061a281790a",
        "colab": {
          "base_uri": "https://localhost:8080/"
        }
      },
      "execution_count": 14,
      "outputs": [
        {
          "output_type": "execute_result",
          "data": {
            "text/plain": [
              "count    70811.000000\n",
              "mean         0.877807\n",
              "std          0.205164\n",
              "min         -0.995000\n",
              "25%          0.872000\n",
              "50%          0.945100\n",
              "75%          0.974700\n",
              "max          0.999400\n",
              "Name: polarity_score, dtype: float64"
            ]
          },
          "metadata": {},
          "execution_count": 14
        }
      ]
    },
    {
      "cell_type": "code",
      "source": [
        "# Install surprise package\n",
        "! pip install surprise"
      ],
      "metadata": {
        "id": "1OYHvkuxf2Dv",
        "outputId": "935770de-02a0-4260-88e5-40fbe7c08a04",
        "colab": {
          "base_uri": "https://localhost:8080/"
        }
      },
      "execution_count": 15,
      "outputs": [
        {
          "output_type": "stream",
          "name": "stdout",
          "text": [
            "Looking in indexes: https://pypi.org/simple, https://us-python.pkg.dev/colab-wheels/public/simple/\n",
            "Requirement already satisfied: surprise in /usr/local/lib/python3.8/dist-packages (0.1)\n",
            "Requirement already satisfied: scikit-surprise in /usr/local/lib/python3.8/dist-packages (from surprise) (1.1.3)\n",
            "Requirement already satisfied: joblib>=1.0.0 in /usr/local/lib/python3.8/dist-packages (from scikit-surprise->surprise) (1.2.0)\n",
            "Requirement already satisfied: numpy>=1.17.3 in /usr/local/lib/python3.8/dist-packages (from scikit-surprise->surprise) (1.21.6)\n",
            "Requirement already satisfied: scipy>=1.3.2 in /usr/local/lib/python3.8/dist-packages (from scikit-surprise->surprise) (1.7.3)\n"
          ]
        }
      ]
    },
    {
      "cell_type": "code",
      "source": [
        "# Import an additional libraries\n",
        "from surprise import SVD, Dataset, Reader, accuracy\n",
        "from surprise.model_selection import cross_validate, train_test_split, GridSearchCV"
      ],
      "metadata": {
        "id": "kUnW2rfRi7YY"
      },
      "execution_count": 282,
      "outputs": []
    },
    {
      "cell_type": "markdown",
      "source": [
        "#### **5. Building Recommender Engine**"
      ],
      "metadata": {
        "id": "_zJoLP3_JSSa"
      }
    },
    {
      "cell_type": "markdown",
      "source": [
        "**Matrix Factorization-based Algorithm**  <p>\n",
        "*Singular Value Decomposition(SVD)*  famous algorithm, as popularized by Simon Funk during the Netflix Prize.  Surprise package provides implementation of this algorithms.\n",
        "It's clear that for the given dataset much better results can be obtained with SVD approach - both in terms of accuracy and training / testing time."
      ],
      "metadata": {
        "id": "QC7AdhV_j5Vt"
      }
    },
    {
      "cell_type": "code",
      "source": [
        "# Rating scale is basically between -1 and 1.\n",
        "reader = Reader(rating_scale=(-1,1))"
      ],
      "metadata": {
        "id": "s-La17JogScM"
      },
      "execution_count": 271,
      "outputs": []
    },
    {
      "cell_type": "code",
      "source": [
        "df = Dataset.load_from_df(df_reviews[['listing_id', 'reviewer_id', 'polarity_score']], reader)\n"
      ],
      "metadata": {
        "id": "5l9Ig_hOghaA"
      },
      "execution_count": 272,
      "outputs": []
    },
    {
      "cell_type": "code",
      "source": [
        "model_svd = SVD()\n",
        "cv_results_svd = cross_validate(model_svd, df, cv=5)\n",
        "pd.DataFrame(cv_results_svd).mean()\n"
      ],
      "metadata": {
        "id": "Uy-6fVMmi-w3",
        "outputId": "43c419b1-a339-4a6e-800a-a7ac174187e0",
        "colab": {
          "base_uri": "https://localhost:8080/"
        }
      },
      "execution_count": 273,
      "outputs": [
        {
          "output_type": "execute_result",
          "data": {
            "text/plain": [
              "test_rmse    0.153525\n",
              "test_mae     0.085217\n",
              "fit_time     0.988749\n",
              "test_time    0.160366\n",
              "dtype: float64"
            ]
          },
          "metadata": {},
          "execution_count": 273
        }
      ]
    },
    {
      "cell_type": "markdown",
      "source": [
        "##### **5.1. Tuning the Algorithm Parameters** <p>\n",
        "Surprise provides a GridSearchCV class analogous to GridSearchCV from scikit-learn.\n",
        "\n",
        "With a dict of all parameters, GridSearchCV tries all the combinations of parameters and reports the best parameters for any accuracy measure.<p>\n",
        "\n",
        "It is used to find the best setting of parameters:\n",
        "- **n_epochs** -  the number of iteration of the SGD procedure.*Default is 20*\n",
        "- **lr_all** - is the learning rate for all parameters, which is a parameter that decides how much the parameters are adjusted in each iteration. *Default is 0.005*\n",
        "- **reg_all** - is the regularization term for all parameters, which is a penalty term added to prevent overfitting. *Default is 0.02*<p>\n",
        "As a result, regarding the majority of parameters, the default setting is the most optimal one. The improvement obtained with Grid Search is very small.\n"
      ],
      "metadata": {
        "id": "Z5z2R29rkB0z"
      }
    },
    {
      "cell_type": "code",
      "source": [
        "# Setting dictionary parameters \n",
        "param_grid = {'n_epochs': [5, 10, 20],\n",
        "              'lr_all': [0.002, 0.005],\n",
        "              'reg_all': [0.2, 0.4, 0.6]}\n",
        "\n",
        "GS = GridSearchCV(SVD, param_grid, measures=['rmse', 'mae'], cv=3)\n",
        "GS.fit(df)\n",
        "# Best RMSE score\n",
        "print(GS.best_score['rmse'])\n",
        "# Combination of parameters that gave the best RMSE score\n",
        "print(GS.best_params['rmse'])\n"
      ],
      "metadata": {
        "id": "01f1MWmqi-2E",
        "outputId": "e7c1230f-98b2-46ca-b5ae-613a45d2c336",
        "colab": {
          "base_uri": "https://localhost:8080/"
        }
      },
      "execution_count": 283,
      "outputs": [
        {
          "output_type": "stream",
          "name": "stdout",
          "text": [
            "0.17212266333730142\n",
            "{'n_epochs': 20, 'lr_all': 0.005, 'reg_all': 0.2}\n"
          ]
        }
      ]
    },
    {
      "cell_type": "markdown",
      "source": [
        "#### **5.2. Analysis of Collaborative Filtering Model Results**<p>\n",
        "In this part, let's examine in detail the results obtained by the SVD model that provided the best RMSE score."
      ],
      "metadata": {
        "id": "ofTSkFkClCXr"
      }
    },
    {
      "cell_type": "code",
      "source": [
        "# Split dataset into train/test sets. Test set is made of 20% of the dataset.\n",
        "train_set, test_set = train_test_split(df, test_size=0.2)\n",
        "\n",
        "# Train the algorithm on the trainset, and predict ratings for the testset\n",
        "model_svd = SVD(n_epochs=20, lr_all=0.005, reg_all=0.2)\n",
        "model_svd.fit(train_set)\n",
        "predictions = model_svd.test(test_set)\n"
      ],
      "metadata": {
        "id": "xt9WUdw8k59s"
      },
      "execution_count": 284,
      "outputs": []
    },
    {
      "cell_type": "code",
      "source": [
        "print('Accuracy on test data set,', end='   ')\n",
        "accuracy.rmse(predictions)\n"
      ],
      "metadata": {
        "id": "SxQueps2wCQw",
        "outputId": "78ac84e3-fbc0-4aef-94f2-84d9b4c7d6c3",
        "colab": {
          "base_uri": "https://localhost:8080/"
        }
      },
      "execution_count": 297,
      "outputs": [
        {
          "output_type": "stream",
          "name": "stdout",
          "text": [
            "Accuracy on test data set,   RMSE: 0.1652\n"
          ]
        },
        {
          "output_type": "execute_result",
          "data": {
            "text/plain": [
              "0.16515163312957046"
            ]
          },
          "metadata": {},
          "execution_count": 297
        }
      ]
    },
    {
      "cell_type": "code",
      "source": [
        "predictions[0]"
      ],
      "metadata": {
        "id": "bztci8aoWCqZ",
        "outputId": "fdd6d028-f736-4225-cb9b-322e5750d89e",
        "colab": {
          "base_uri": "https://localhost:8080/"
        }
      },
      "execution_count": 286,
      "outputs": [
        {
          "output_type": "execute_result",
          "data": {
            "text/plain": [
              "Prediction(uid=84010, iid=525971, r_ui=0.8442, est=0.8196543368892896, details={'was_impossible': False})"
            ]
          },
          "metadata": {},
          "execution_count": 286
        }
      ]
    },
    {
      "cell_type": "code",
      "source": [
        "df_pred = pd.DataFrame(predictions, columns=['listing_id', 'reviewer_id', 'polarity_score' ,'pred_pol','details'])\n",
        "\n",
        "df_pred['impossible'] = df_pred['details'].apply(lambda x: x['was_impossible'])\n",
        "df_pred['pred_pol_round'] = df_pred['pred_pol'].round()\n",
        "df_pred['abs_err'] = abs(df_pred['pred_pol'] - df_pred['polarity_score'])\n",
        "df_pred.drop(['details'], axis=1, inplace=True)\n",
        "\n",
        "df_pred.sample(5)\n"
      ],
      "metadata": {
        "id": "dHdcRK8flvBy",
        "outputId": "eb25aa80-196a-4200-cec8-7d0f68a4582b",
        "colab": {
          "base_uri": "https://localhost:8080/",
          "height": 206
        }
      },
      "execution_count": 288,
      "outputs": [
        {
          "output_type": "execute_result",
          "data": {
            "text/plain": [
              "       listing_id  reviewer_id  polarity_score  pred_pol  impossible  \\\n",
              "2528        57618     11365780          0.4939  0.774209       False   \n",
              "4723        42882     39326541          0.9854  0.917413       False   \n",
              "5439        16580    116596540          0.8016  0.859306       False   \n",
              "12719        8490     49120977          0.8452  0.885422       False   \n",
              "5585        29628    149130152          0.9925  0.915538       False   \n",
              "\n",
              "       pred_pol_round   abs_err  \n",
              "2528              1.0  0.280309  \n",
              "4723              1.0  0.067987  \n",
              "5439              1.0  0.057706  \n",
              "12719             1.0  0.040222  \n",
              "5585              1.0  0.076962  "
            ],
            "text/html": [
              "\n",
              "  <div id=\"df-2315bc32-0144-4921-920c-ea4328bce0f9\">\n",
              "    <div class=\"colab-df-container\">\n",
              "      <div>\n",
              "<style scoped>\n",
              "    .dataframe tbody tr th:only-of-type {\n",
              "        vertical-align: middle;\n",
              "    }\n",
              "\n",
              "    .dataframe tbody tr th {\n",
              "        vertical-align: top;\n",
              "    }\n",
              "\n",
              "    .dataframe thead th {\n",
              "        text-align: right;\n",
              "    }\n",
              "</style>\n",
              "<table border=\"1\" class=\"dataframe\">\n",
              "  <thead>\n",
              "    <tr style=\"text-align: right;\">\n",
              "      <th></th>\n",
              "      <th>listing_id</th>\n",
              "      <th>reviewer_id</th>\n",
              "      <th>polarity_score</th>\n",
              "      <th>pred_pol</th>\n",
              "      <th>impossible</th>\n",
              "      <th>pred_pol_round</th>\n",
              "      <th>abs_err</th>\n",
              "    </tr>\n",
              "  </thead>\n",
              "  <tbody>\n",
              "    <tr>\n",
              "      <th>2528</th>\n",
              "      <td>57618</td>\n",
              "      <td>11365780</td>\n",
              "      <td>0.4939</td>\n",
              "      <td>0.774209</td>\n",
              "      <td>False</td>\n",
              "      <td>1.0</td>\n",
              "      <td>0.280309</td>\n",
              "    </tr>\n",
              "    <tr>\n",
              "      <th>4723</th>\n",
              "      <td>42882</td>\n",
              "      <td>39326541</td>\n",
              "      <td>0.9854</td>\n",
              "      <td>0.917413</td>\n",
              "      <td>False</td>\n",
              "      <td>1.0</td>\n",
              "      <td>0.067987</td>\n",
              "    </tr>\n",
              "    <tr>\n",
              "      <th>5439</th>\n",
              "      <td>16580</td>\n",
              "      <td>116596540</td>\n",
              "      <td>0.8016</td>\n",
              "      <td>0.859306</td>\n",
              "      <td>False</td>\n",
              "      <td>1.0</td>\n",
              "      <td>0.057706</td>\n",
              "    </tr>\n",
              "    <tr>\n",
              "      <th>12719</th>\n",
              "      <td>8490</td>\n",
              "      <td>49120977</td>\n",
              "      <td>0.8452</td>\n",
              "      <td>0.885422</td>\n",
              "      <td>False</td>\n",
              "      <td>1.0</td>\n",
              "      <td>0.040222</td>\n",
              "    </tr>\n",
              "    <tr>\n",
              "      <th>5585</th>\n",
              "      <td>29628</td>\n",
              "      <td>149130152</td>\n",
              "      <td>0.9925</td>\n",
              "      <td>0.915538</td>\n",
              "      <td>False</td>\n",
              "      <td>1.0</td>\n",
              "      <td>0.076962</td>\n",
              "    </tr>\n",
              "  </tbody>\n",
              "</table>\n",
              "</div>\n",
              "      <button class=\"colab-df-convert\" onclick=\"convertToInteractive('df-2315bc32-0144-4921-920c-ea4328bce0f9')\"\n",
              "              title=\"Convert this dataframe to an interactive table.\"\n",
              "              style=\"display:none;\">\n",
              "        \n",
              "  <svg xmlns=\"http://www.w3.org/2000/svg\" height=\"24px\"viewBox=\"0 0 24 24\"\n",
              "       width=\"24px\">\n",
              "    <path d=\"M0 0h24v24H0V0z\" fill=\"none\"/>\n",
              "    <path d=\"M18.56 5.44l.94 2.06.94-2.06 2.06-.94-2.06-.94-.94-2.06-.94 2.06-2.06.94zm-11 1L8.5 8.5l.94-2.06 2.06-.94-2.06-.94L8.5 2.5l-.94 2.06-2.06.94zm10 10l.94 2.06.94-2.06 2.06-.94-2.06-.94-.94-2.06-.94 2.06-2.06.94z\"/><path d=\"M17.41 7.96l-1.37-1.37c-.4-.4-.92-.59-1.43-.59-.52 0-1.04.2-1.43.59L10.3 9.45l-7.72 7.72c-.78.78-.78 2.05 0 2.83L4 21.41c.39.39.9.59 1.41.59.51 0 1.02-.2 1.41-.59l7.78-7.78 2.81-2.81c.8-.78.8-2.07 0-2.86zM5.41 20L4 18.59l7.72-7.72 1.47 1.35L5.41 20z\"/>\n",
              "  </svg>\n",
              "      </button>\n",
              "      \n",
              "  <style>\n",
              "    .colab-df-container {\n",
              "      display:flex;\n",
              "      flex-wrap:wrap;\n",
              "      gap: 12px;\n",
              "    }\n",
              "\n",
              "    .colab-df-convert {\n",
              "      background-color: #E8F0FE;\n",
              "      border: none;\n",
              "      border-radius: 50%;\n",
              "      cursor: pointer;\n",
              "      display: none;\n",
              "      fill: #1967D2;\n",
              "      height: 32px;\n",
              "      padding: 0 0 0 0;\n",
              "      width: 32px;\n",
              "    }\n",
              "\n",
              "    .colab-df-convert:hover {\n",
              "      background-color: #E2EBFA;\n",
              "      box-shadow: 0px 1px 2px rgba(60, 64, 67, 0.3), 0px 1px 3px 1px rgba(60, 64, 67, 0.15);\n",
              "      fill: #174EA6;\n",
              "    }\n",
              "\n",
              "    [theme=dark] .colab-df-convert {\n",
              "      background-color: #3B4455;\n",
              "      fill: #D2E3FC;\n",
              "    }\n",
              "\n",
              "    [theme=dark] .colab-df-convert:hover {\n",
              "      background-color: #434B5C;\n",
              "      box-shadow: 0px 1px 3px 1px rgba(0, 0, 0, 0.15);\n",
              "      filter: drop-shadow(0px 1px 2px rgba(0, 0, 0, 0.3));\n",
              "      fill: #FFFFFF;\n",
              "    }\n",
              "  </style>\n",
              "\n",
              "      <script>\n",
              "        const buttonEl =\n",
              "          document.querySelector('#df-2315bc32-0144-4921-920c-ea4328bce0f9 button.colab-df-convert');\n",
              "        buttonEl.style.display =\n",
              "          google.colab.kernel.accessAllowed ? 'block' : 'none';\n",
              "\n",
              "        async function convertToInteractive(key) {\n",
              "          const element = document.querySelector('#df-2315bc32-0144-4921-920c-ea4328bce0f9');\n",
              "          const dataTable =\n",
              "            await google.colab.kernel.invokeFunction('convertToInteractive',\n",
              "                                                     [key], {});\n",
              "          if (!dataTable) return;\n",
              "\n",
              "          const docLinkHtml = 'Like what you see? Visit the ' +\n",
              "            '<a target=\"_blank\" href=https://colab.research.google.com/notebooks/data_table.ipynb>data table notebook</a>'\n",
              "            + ' to learn more about interactive tables.';\n",
              "          element.innerHTML = '';\n",
              "          dataTable['output_type'] = 'display_data';\n",
              "          await google.colab.output.renderOutput(dataTable, element);\n",
              "          const docLink = document.createElement('div');\n",
              "          docLink.innerHTML = docLinkHtml;\n",
              "          element.appendChild(docLink);\n",
              "        }\n",
              "      </script>\n",
              "    </div>\n",
              "  </div>\n",
              "  "
            ]
          },
          "metadata": {},
          "execution_count": 288
        }
      ]
    },
    {
      "cell_type": "code",
      "source": [
        "plt.figure(figsize=(10,5))\n",
        "sns.scatterplot(data=df_pred, y='polarity_score', x='pred_pol', color='#9f4e4f')\n",
        "plt.title('Predicted v.s. True Polarity Scores',fontweight=\"bold\")\n",
        "plt.xlabel('Predicted Scores', fontweight=\"bold\")\n",
        "plt.ylabel('Actual Scores', fontweight=\"bold\");\n"
      ],
      "metadata": {
        "id": "LxxgdsFVm874",
        "outputId": "03aafa1b-08a0-46bd-e3b9-6b6fbd4bb0d4",
        "colab": {
          "base_uri": "https://localhost:8080/",
          "height": 350
        }
      },
      "execution_count": 289,
      "outputs": [
        {
          "output_type": "display_data",
          "data": {
            "text/plain": [
              "<Figure size 720x360 with 1 Axes>"
            ],
            "image/png": "[encoded data removed]"
          },
          "metadata": {}
        }
      ]
    },
    {
      "cell_type": "code",
      "source": [
        "df_pred[df_pred['pred_pol'].notna()].sort_values('pred_pol', ascending=False).head(5)"
      ],
      "metadata": {
        "id": "Q81oHeehp2Sw",
        "outputId": "9dd51811-71a0-409e-d1d3-0488ffc0f174",
        "colab": {
          "base_uri": "https://localhost:8080/",
          "height": 206
        }
      },
      "execution_count": null,
      "outputs": [
        {
          "output_type": "execute_result",
          "data": {
            "text/plain": [
              "       listing_id  reviewer_id  polarity_score  pred_pol  impossible  \\\n",
              "10317       53470       159014          0.9829  1.000000       False   \n",
              "13609       84010     22585386          0.9535  1.000000       False   \n",
              "2598        60457       290583          0.9665  0.998210       False   \n",
              "1619        60457       290583          0.9665  0.998210       False   \n",
              "2249        65425       140684          0.9796  0.990107       False   \n",
              "\n",
              "       pred_pol_round   abs_err  \n",
              "10317             1.0  0.017100  \n",
              "13609             1.0  0.046500  \n",
              "2598              1.0  0.031710  \n",
              "1619              1.0  0.031710  \n",
              "2249              1.0  0.010507  "
            ],
            "text/html": [
              "\n",
              "  <div id=\"df-9c8a1482-5ce3-4ce1-b842-a26e8429c6cc\">\n",
              "    <div class=\"colab-df-container\">\n",
              "      <div>\n",
              "<style scoped>\n",
              "    .dataframe tbody tr th:only-of-type {\n",
              "        vertical-align: middle;\n",
              "    }\n",
              "\n",
              "    .dataframe tbody tr th {\n",
              "        vertical-align: top;\n",
              "    }\n",
              "\n",
              "    .dataframe thead th {\n",
              "        text-align: right;\n",
              "    }\n",
              "</style>\n",
              "<table border=\"1\" class=\"dataframe\">\n",
              "  <thead>\n",
              "    <tr style=\"text-align: right;\">\n",
              "      <th></th>\n",
              "      <th>listing_id</th>\n",
              "      <th>reviewer_id</th>\n",
              "      <th>polarity_score</th>\n",
              "      <th>pred_pol</th>\n",
              "      <th>impossible</th>\n",
              "      <th>pred_pol_round</th>\n",
              "      <th>abs_err</th>\n",
              "    </tr>\n",
              "  </thead>\n",
              "  <tbody>\n",
              "    <tr>\n",
              "      <th>10317</th>\n",
              "      <td>53470</td>\n",
              "      <td>159014</td>\n",
              "      <td>0.9829</td>\n",
              "      <td>1.000000</td>\n",
              "      <td>False</td>\n",
              "      <td>1.0</td>\n",
              "      <td>0.017100</td>\n",
              "    </tr>\n",
              "    <tr>\n",
              "      <th>13609</th>\n",
              "      <td>84010</td>\n",
              "      <td>22585386</td>\n",
              "      <td>0.9535</td>\n",
              "      <td>1.000000</td>\n",
              "      <td>False</td>\n",
              "      <td>1.0</td>\n",
              "      <td>0.046500</td>\n",
              "    </tr>\n",
              "    <tr>\n",
              "      <th>2598</th>\n",
              "      <td>60457</td>\n",
              "      <td>290583</td>\n",
              "      <td>0.9665</td>\n",
              "      <td>0.998210</td>\n",
              "      <td>False</td>\n",
              "      <td>1.0</td>\n",
              "      <td>0.031710</td>\n",
              "    </tr>\n",
              "    <tr>\n",
              "      <th>1619</th>\n",
              "      <td>60457</td>\n",
              "      <td>290583</td>\n",
              "      <td>0.9665</td>\n",
              "      <td>0.998210</td>\n",
              "      <td>False</td>\n",
              "      <td>1.0</td>\n",
              "      <td>0.031710</td>\n",
              "    </tr>\n",
              "    <tr>\n",
              "      <th>2249</th>\n",
              "      <td>65425</td>\n",
              "      <td>140684</td>\n",
              "      <td>0.9796</td>\n",
              "      <td>0.990107</td>\n",
              "      <td>False</td>\n",
              "      <td>1.0</td>\n",
              "      <td>0.010507</td>\n",
              "    </tr>\n",
              "  </tbody>\n",
              "</table>\n",
              "</div>\n",
              "      <button class=\"colab-df-convert\" onclick=\"convertToInteractive('df-9c8a1482-5ce3-4ce1-b842-a26e8429c6cc')\"\n",
              "              title=\"Convert this dataframe to an interactive table.\"\n",
              "              style=\"display:none;\">\n",
              "        \n",
              "  <svg xmlns=\"http://www.w3.org/2000/svg\" height=\"24px\"viewBox=\"0 0 24 24\"\n",
              "       width=\"24px\">\n",
              "    <path d=\"M0 0h24v24H0V0z\" fill=\"none\"/>\n",
              "    <path d=\"M18.56 5.44l.94 2.06.94-2.06 2.06-.94-2.06-.94-.94-2.06-.94 2.06-2.06.94zm-11 1L8.5 8.5l.94-2.06 2.06-.94-2.06-.94L8.5 2.5l-.94 2.06-2.06.94zm10 10l.94 2.06.94-2.06 2.06-.94-2.06-.94-.94-2.06-.94 2.06-2.06.94z\"/><path d=\"M17.41 7.96l-1.37-1.37c-.4-.4-.92-.59-1.43-.59-.52 0-1.04.2-1.43.59L10.3 9.45l-7.72 7.72c-.78.78-.78 2.05 0 2.83L4 21.41c.39.39.9.59 1.41.59.51 0 1.02-.2 1.41-.59l7.78-7.78 2.81-2.81c.8-.78.8-2.07 0-2.86zM5.41 20L4 18.59l7.72-7.72 1.47 1.35L5.41 20z\"/>\n",
              "  </svg>\n",
              "      </button>\n",
              "      \n",
              "  <style>\n",
              "    .colab-df-container {\n",
              "      display:flex;\n",
              "      flex-wrap:wrap;\n",
              "      gap: 12px;\n",
              "    }\n",
              "\n",
              "    .colab-df-convert {\n",
              "      background-color: #E8F0FE;\n",
              "      border: none;\n",
              "      border-radius: 50%;\n",
              "      cursor: pointer;\n",
              "      display: none;\n",
              "      fill: #1967D2;\n",
              "      height: 32px;\n",
              "      padding: 0 0 0 0;\n",
              "      width: 32px;\n",
              "    }\n",
              "\n",
              "    .colab-df-convert:hover {\n",
              "      background-color: #E2EBFA;\n",
              "      box-shadow: 0px 1px 2px rgba(60, 64, 67, 0.3), 0px 1px 3px 1px rgba(60, 64, 67, 0.15);\n",
              "      fill: #174EA6;\n",
              "    }\n",
              "\n",
              "    [theme=dark] .colab-df-convert {\n",
              "      background-color: #3B4455;\n",
              "      fill: #D2E3FC;\n",
              "    }\n",
              "\n",
              "    [theme=dark] .colab-df-convert:hover {\n",
              "      background-color: #434B5C;\n",
              "      box-shadow: 0px 1px 3px 1px rgba(0, 0, 0, 0.15);\n",
              "      filter: drop-shadow(0px 1px 2px rgba(0, 0, 0, 0.3));\n",
              "      fill: #FFFFFF;\n",
              "    }\n",
              "  </style>\n",
              "\n",
              "      <script>\n",
              "        const buttonEl =\n",
              "          document.querySelector('#df-9c8a1482-5ce3-4ce1-b842-a26e8429c6cc button.colab-df-convert');\n",
              "        buttonEl.style.display =\n",
              "          google.colab.kernel.accessAllowed ? 'block' : 'none';\n",
              "\n",
              "        async function convertToInteractive(key) {\n",
              "          const element = document.querySelector('#df-9c8a1482-5ce3-4ce1-b842-a26e8429c6cc');\n",
              "          const dataTable =\n",
              "            await google.colab.kernel.invokeFunction('convertToInteractive',\n",
              "                                                     [key], {});\n",
              "          if (!dataTable) return;\n",
              "\n",
              "          const docLinkHtml = 'Like what you see? Visit the ' +\n",
              "            '<a target=\"_blank\" href=https://colab.research.google.com/notebooks/data_table.ipynb>data table notebook</a>'\n",
              "            + ' to learn more about interactive tables.';\n",
              "          element.innerHTML = '';\n",
              "          dataTable['output_type'] = 'display_data';\n",
              "          await google.colab.output.renderOutput(dataTable, element);\n",
              "          const docLink = document.createElement('div');\n",
              "          docLink.innerHTML = docLinkHtml;\n",
              "          element.appendChild(docLink);\n",
              "        }\n",
              "      </script>\n",
              "    </div>\n",
              "  </div>\n",
              "  "
            ]
          },
          "metadata": {},
          "execution_count": 38
        }
      ]
    },
    {
      "cell_type": "markdown",
      "source": [
        "#### **5.3.  Recommend  up to 10 listings for users**"
      ],
      "metadata": {
        "id": "k5Truc8Tihem"
      }
    },
    {
      "cell_type": "code",
      "source": [
        "predictions[1]"
      ],
      "metadata": {
        "id": "_2HN5-1on9nC",
        "outputId": "4d53b4ce-60d0-4044-ff87-f4d4024bcbe0",
        "colab": {
          "base_uri": "https://localhost:8080/"
        }
      },
      "execution_count": 290,
      "outputs": [
        {
          "output_type": "execute_result",
          "data": {
            "text/plain": [
              "Prediction(uid=141154, iid=10417590, r_ui=0.9533, est=0.8878662657336628, details={'was_impossible': False})"
            ]
          },
          "metadata": {},
          "execution_count": 290
        }
      ]
    },
    {
      "cell_type": "code",
      "source": [
        "test = pd.DataFrame(predictions)\n",
        "test = test.rename(columns={'uid':'listingId', 'iid': 'userId', \n",
        "                            'r_ui':'actual', 'est':'prediction'})\n",
        "cf_model = test.pivot_table(index='userId', \n",
        "                            columns='listingId', values='prediction').fillna(0)\n",
        "\n",
        "def get_users_predictions(user_id, n, model):\n",
        "    recommended_items = pd.DataFrame(model.loc[user_id])\n",
        "    recommended_items.columns = [\"predicted_rating\"]\n",
        "    recommended_items = recommended_items.sort_values('predicted_rating', ascending=False)    \n",
        "    recommended_items = recommended_items.head(n)\n",
        "    return recommended_items.index.tolist()\n",
        "\n",
        "def get_recs(model, N):\n",
        "    recs = []\n",
        "    for user in model.index:\n",
        "        cf_predictions = get_users_predictions(user, N, model)\n",
        "        recs.append(cf_predictions)\n",
        "    return recs    "
      ],
      "metadata": {
        "id": "GoPBuaRFxQrJ"
      },
      "execution_count": 291,
      "outputs": []
    },
    {
      "cell_type": "code",
      "source": [
        "# Top-10 recommendations for each user in DataFrame\n",
        "N = 10\n",
        "recs = get_recs(cf_model, N)\n",
        "preds = pd.DataFrame(index=cf_model.index)\n",
        "preds[f'Top-{N} Recommendation'] = recs\n",
        "preds.head()"
      ],
      "metadata": {
        "colab": {
          "base_uri": "https://localhost:8080/",
          "height": 238
        },
        "id": "-iFjQ3e6xnCi",
        "outputId": "77eb00dd-672e-495c-cdd6-c87d1ad4bf7a"
      },
      "execution_count": 292,
      "outputs": [
        {
          "output_type": "execute_result",
          "data": {
            "text/plain": [
              "                                                        Top-10 Recommendation\n",
              "userId                                                                       \n",
              "409      [5178, 2539, 71248, 66251, 66275, 66718, 66741, 66974, 67288, 67299]\n",
              "484     [28321, 2539, 71366, 66275, 66718, 66741, 66974, 67288, 67299, 67397]\n",
              "537      [6990, 2539, 71248, 66251, 66275, 66718, 66741, 66974, 67288, 67299]\n",
              "1039    [16595, 2539, 71248, 66275, 66718, 66741, 66974, 67288, 67299, 67397]\n",
              "1429    [67299, 2539, 71248, 66251, 66275, 66718, 66741, 66974, 67288, 67397]"
            ],
            "text/html": [
              "\n",
              "  <div id=\"df-189ebb14-7e84-4154-9863-e949e59f3f6a\">\n",
              "    <div class=\"colab-df-container\">\n",
              "      <div>\n",
              "<style scoped>\n",
              "    .dataframe tbody tr th:only-of-type {\n",
              "        vertical-align: middle;\n",
              "    }\n",
              "\n",
              "    .dataframe tbody tr th {\n",
              "        vertical-align: top;\n",
              "    }\n",
              "\n",
              "    .dataframe thead th {\n",
              "        text-align: right;\n",
              "    }\n",
              "</style>\n",
              "<table border=\"1\" class=\"dataframe\">\n",
              "  <thead>\n",
              "    <tr style=\"text-align: right;\">\n",
              "      <th></th>\n",
              "      <th>Top-10 Recommendation</th>\n",
              "    </tr>\n",
              "    <tr>\n",
              "      <th>userId</th>\n",
              "      <th></th>\n",
              "    </tr>\n",
              "  </thead>\n",
              "  <tbody>\n",
              "    <tr>\n",
              "      <th>409</th>\n",
              "      <td>[5178, 2539, 71248, 66251, 66275, 66718, 66741, 66974, 67288, 67299]</td>\n",
              "    </tr>\n",
              "    <tr>\n",
              "      <th>484</th>\n",
              "      <td>[28321, 2539, 71366, 66275, 66718, 66741, 66974, 67288, 67299, 67397]</td>\n",
              "    </tr>\n",
              "    <tr>\n",
              "      <th>537</th>\n",
              "      <td>[6990, 2539, 71248, 66251, 66275, 66718, 66741, 66974, 67288, 67299]</td>\n",
              "    </tr>\n",
              "    <tr>\n",
              "      <th>1039</th>\n",
              "      <td>[16595, 2539, 71248, 66275, 66718, 66741, 66974, 67288, 67299, 67397]</td>\n",
              "    </tr>\n",
              "    <tr>\n",
              "      <th>1429</th>\n",
              "      <td>[67299, 2539, 71248, 66251, 66275, 66718, 66741, 66974, 67288, 67397]</td>\n",
              "    </tr>\n",
              "  </tbody>\n",
              "</table>\n",
              "</div>\n",
              "      <button class=\"colab-df-convert\" onclick=\"convertToInteractive('df-189ebb14-7e84-4154-9863-e949e59f3f6a')\"\n",
              "              title=\"Convert this dataframe to an interactive table.\"\n",
              "              style=\"display:none;\">\n",
              "        \n",
              "  <svg xmlns=\"http://www.w3.org/2000/svg\" height=\"24px\"viewBox=\"0 0 24 24\"\n",
              "       width=\"24px\">\n",
              "    <path d=\"M0 0h24v24H0V0z\" fill=\"none\"/>\n",
              "    <path d=\"M18.56 5.44l.94 2.06.94-2.06 2.06-.94-2.06-.94-.94-2.06-.94 2.06-2.06.94zm-11 1L8.5 8.5l.94-2.06 2.06-.94-2.06-.94L8.5 2.5l-.94 2.06-2.06.94zm10 10l.94 2.06.94-2.06 2.06-.94-2.06-.94-.94-2.06-.94 2.06-2.06.94z\"/><path d=\"M17.41 7.96l-1.37-1.37c-.4-.4-.92-.59-1.43-.59-.52 0-1.04.2-1.43.59L10.3 9.45l-7.72 7.72c-.78.78-.78 2.05 0 2.83L4 21.41c.39.39.9.59 1.41.59.51 0 1.02-.2 1.41-.59l7.78-7.78 2.81-2.81c.8-.78.8-2.07 0-2.86zM5.41 20L4 18.59l7.72-7.72 1.47 1.35L5.41 20z\"/>\n",
              "  </svg>\n",
              "      </button>\n",
              "      \n",
              "  <style>\n",
              "    .colab-df-container {\n",
              "      display:flex;\n",
              "      flex-wrap:wrap;\n",
              "      gap: 12px;\n",
              "    }\n",
              "\n",
              "    .colab-df-convert {\n",
              "      background-color: #E8F0FE;\n",
              "      border: none;\n",
              "      border-radius: 50%;\n",
              "      cursor: pointer;\n",
              "      display: none;\n",
              "      fill: #1967D2;\n",
              "      height: 32px;\n",
              "      padding: 0 0 0 0;\n",
              "      width: 32px;\n",
              "    }\n",
              "\n",
              "    .colab-df-convert:hover {\n",
              "      background-color: #E2EBFA;\n",
              "      box-shadow: 0px 1px 2px rgba(60, 64, 67, 0.3), 0px 1px 3px 1px rgba(60, 64, 67, 0.15);\n",
              "      fill: #174EA6;\n",
              "    }\n",
              "\n",
              "    [theme=dark] .colab-df-convert {\n",
              "      background-color: #3B4455;\n",
              "      fill: #D2E3FC;\n",
              "    }\n",
              "\n",
              "    [theme=dark] .colab-df-convert:hover {\n",
              "      background-color: #434B5C;\n",
              "      box-shadow: 0px 1px 3px 1px rgba(0, 0, 0, 0.15);\n",
              "      filter: drop-shadow(0px 1px 2px rgba(0, 0, 0, 0.3));\n",
              "      fill: #FFFFFF;\n",
              "    }\n",
              "  </style>\n",
              "\n",
              "      <script>\n",
              "        const buttonEl =\n",
              "          document.querySelector('#df-189ebb14-7e84-4154-9863-e949e59f3f6a button.colab-df-convert');\n",
              "        buttonEl.style.display =\n",
              "          google.colab.kernel.accessAllowed ? 'block' : 'none';\n",
              "\n",
              "        async function convertToInteractive(key) {\n",
              "          const element = document.querySelector('#df-189ebb14-7e84-4154-9863-e949e59f3f6a');\n",
              "          const dataTable =\n",
              "            await google.colab.kernel.invokeFunction('convertToInteractive',\n",
              "                                                     [key], {});\n",
              "          if (!dataTable) return;\n",
              "\n",
              "          const docLinkHtml = 'Like what you see? Visit the ' +\n",
              "            '<a target=\"_blank\" href=https://colab.research.google.com/notebooks/data_table.ipynb>data table notebook</a>'\n",
              "            + ' to learn more about interactive tables.';\n",
              "          element.innerHTML = '';\n",
              "          dataTable['output_type'] = 'display_data';\n",
              "          await google.colab.output.renderOutput(dataTable, element);\n",
              "          const docLink = document.createElement('div');\n",
              "          docLink.innerHTML = docLinkHtml;\n",
              "          element.appendChild(docLink);\n",
              "        }\n",
              "      </script>\n",
              "    </div>\n",
              "  </div>\n",
              "  "
            ]
          },
          "metadata": {},
          "execution_count": 292
        }
      ]
    },
    {
      "cell_type": "code",
      "source": [
        "# Reset the index of the DataFrame\n",
        "preds = preds.reset_index()"
      ],
      "metadata": {
        "id": "kPL8-Xgxxuir"
      },
      "execution_count": 294,
      "outputs": []
    },
    {
      "cell_type": "code",
      "source": [
        "# Get first user for further analyse\n",
        "user_ex = preds[preds['userId']==409]"
      ],
      "metadata": {
        "id": "X9gVH__-yMVR"
      },
      "execution_count": 295,
      "outputs": []
    },
    {
      "cell_type": "code",
      "source": [
        "user_ex"
      ],
      "metadata": {
        "colab": {
          "base_uri": "https://localhost:8080/",
          "height": 81
        },
        "id": "-TJ8XovT0rfQ",
        "outputId": "97eeb92e-30e8-4f1e-e4ee-746f0a55d308"
      },
      "execution_count": 259,
      "outputs": [
        {
          "output_type": "execute_result",
          "data": {
            "text/plain": [
              "   userId  \\\n",
              "0     409   \n",
              "\n",
              "                                                  Top-10 Recommendation  \n",
              "0  [5178, 2539, 71248, 66251, 66275, 66718, 66741, 66974, 67288, 67299]  "
            ],
            "text/html": [
              "\n",
              "  <div id=\"df-18452d84-d963-4769-930e-9c52bd6d5702\">\n",
              "    <div class=\"colab-df-container\">\n",
              "      <div>\n",
              "<style scoped>\n",
              "    .dataframe tbody tr th:only-of-type {\n",
              "        vertical-align: middle;\n",
              "    }\n",
              "\n",
              "    .dataframe tbody tr th {\n",
              "        vertical-align: top;\n",
              "    }\n",
              "\n",
              "    .dataframe thead th {\n",
              "        text-align: right;\n",
              "    }\n",
              "</style>\n",
              "<table border=\"1\" class=\"dataframe\">\n",
              "  <thead>\n",
              "    <tr style=\"text-align: right;\">\n",
              "      <th></th>\n",
              "      <th>userId</th>\n",
              "      <th>Top-10 Recommendation</th>\n",
              "    </tr>\n",
              "  </thead>\n",
              "  <tbody>\n",
              "    <tr>\n",
              "      <th>0</th>\n",
              "      <td>409</td>\n",
              "      <td>[5178, 2539, 71248, 66251, 66275, 66718, 66741, 66974, 67288, 67299]</td>\n",
              "    </tr>\n",
              "  </tbody>\n",
              "</table>\n",
              "</div>\n",
              "      <button class=\"colab-df-convert\" onclick=\"convertToInteractive('df-18452d84-d963-4769-930e-9c52bd6d5702')\"\n",
              "              title=\"Convert this dataframe to an interactive table.\"\n",
              "              style=\"display:none;\">\n",
              "        \n",
              "  <svg xmlns=\"http://www.w3.org/2000/svg\" height=\"24px\"viewBox=\"0 0 24 24\"\n",
              "       width=\"24px\">\n",
              "    <path d=\"M0 0h24v24H0V0z\" fill=\"none\"/>\n",
              "    <path d=\"M18.56 5.44l.94 2.06.94-2.06 2.06-.94-2.06-.94-.94-2.06-.94 2.06-2.06.94zm-11 1L8.5 8.5l.94-2.06 2.06-.94-2.06-.94L8.5 2.5l-.94 2.06-2.06.94zm10 10l.94 2.06.94-2.06 2.06-.94-2.06-.94-.94-2.06-.94 2.06-2.06.94z\"/><path d=\"M17.41 7.96l-1.37-1.37c-.4-.4-.92-.59-1.43-.59-.52 0-1.04.2-1.43.59L10.3 9.45l-7.72 7.72c-.78.78-.78 2.05 0 2.83L4 21.41c.39.39.9.59 1.41.59.51 0 1.02-.2 1.41-.59l7.78-7.78 2.81-2.81c.8-.78.8-2.07 0-2.86zM5.41 20L4 18.59l7.72-7.72 1.47 1.35L5.41 20z\"/>\n",
              "  </svg>\n",
              "      </button>\n",
              "      \n",
              "  <style>\n",
              "    .colab-df-container {\n",
              "      display:flex;\n",
              "      flex-wrap:wrap;\n",
              "      gap: 12px;\n",
              "    }\n",
              "\n",
              "    .colab-df-convert {\n",
              "      background-color: #E8F0FE;\n",
              "      border: none;\n",
              "      border-radius: 50%;\n",
              "      cursor: pointer;\n",
              "      display: none;\n",
              "      fill: #1967D2;\n",
              "      height: 32px;\n",
              "      padding: 0 0 0 0;\n",
              "      width: 32px;\n",
              "    }\n",
              "\n",
              "    .colab-df-convert:hover {\n",
              "      background-color: #E2EBFA;\n",
              "      box-shadow: 0px 1px 2px rgba(60, 64, 67, 0.3), 0px 1px 3px 1px rgba(60, 64, 67, 0.15);\n",
              "      fill: #174EA6;\n",
              "    }\n",
              "\n",
              "    [theme=dark] .colab-df-convert {\n",
              "      background-color: #3B4455;\n",
              "      fill: #D2E3FC;\n",
              "    }\n",
              "\n",
              "    [theme=dark] .colab-df-convert:hover {\n",
              "      background-color: #434B5C;\n",
              "      box-shadow: 0px 1px 3px 1px rgba(0, 0, 0, 0.15);\n",
              "      filter: drop-shadow(0px 1px 2px rgba(0, 0, 0, 0.3));\n",
              "      fill: #FFFFFF;\n",
              "    }\n",
              "  </style>\n",
              "\n",
              "      <script>\n",
              "        const buttonEl =\n",
              "          document.querySelector('#df-18452d84-d963-4769-930e-9c52bd6d5702 button.colab-df-convert');\n",
              "        buttonEl.style.display =\n",
              "          google.colab.kernel.accessAllowed ? 'block' : 'none';\n",
              "\n",
              "        async function convertToInteractive(key) {\n",
              "          const element = document.querySelector('#df-18452d84-d963-4769-930e-9c52bd6d5702');\n",
              "          const dataTable =\n",
              "            await google.colab.kernel.invokeFunction('convertToInteractive',\n",
              "                                                     [key], {});\n",
              "          if (!dataTable) return;\n",
              "\n",
              "          const docLinkHtml = 'Like what you see? Visit the ' +\n",
              "            '<a target=\"_blank\" href=https://colab.research.google.com/notebooks/data_table.ipynb>data table notebook</a>'\n",
              "            + ' to learn more about interactive tables.';\n",
              "          element.innerHTML = '';\n",
              "          dataTable['output_type'] = 'display_data';\n",
              "          await google.colab.output.renderOutput(dataTable, element);\n",
              "          const docLink = document.createElement('div');\n",
              "          docLink.innerHTML = docLinkHtml;\n",
              "          element.appendChild(docLink);\n",
              "        }\n",
              "      </script>\n",
              "    </div>\n",
              "  </div>\n",
              "  "
            ]
          },
          "metadata": {},
          "execution_count": 259
        }
      ]
    },
    {
      "cell_type": "code",
      "source": [
        "#user_ex = pd.concat([user_ex['userId'],pd.DataFrame(user_ex['Top-10 Recommendation'].values.tolist())], axis=1)"
      ],
      "metadata": {
        "id": "_0rSx2mIzvU9"
      },
      "execution_count": 262,
      "outputs": []
    },
    {
      "cell_type": "code",
      "source": [
        "#user_ex"
      ],
      "metadata": {
        "id": "eZvpj4uD1OJX"
      },
      "execution_count": 298,
      "outputs": []
    },
    {
      "cell_type": "code",
      "source": [
        "# Upload listings dataFrame\n",
        "listings = pd.read_csv('/content/listings.csv', usecols = ['id','name','host_name','neighbourhood_cleansed',\n",
        "                                                           'neighbourhood_group_cleansed','price'])"
      ],
      "metadata": {
        "id": "S5YTy47o1PYn"
      },
      "execution_count": 211,
      "outputs": []
    },
    {
      "cell_type": "code",
      "source": [
        "# Drop duplicate values\n",
        "listings = listings.drop_duplicates(subset='id', keep=\"last\")"
      ],
      "metadata": {
        "id": "58UOa2tq4JZf"
      },
      "execution_count": 212,
      "outputs": []
    },
    {
      "cell_type": "code",
      "source": [
        "# Filter recommended listing along with other informations\n",
        "rec_1 = listings[listings['id']==5178]\n",
        "rec_2 = listings[listings['id']==2539]\n",
        "rec_3 = listings[listings['id']==71248]\n",
        "rec_4 = listings[listings['id']==66251]\n",
        "rec_5 = listings[listings['id']==66275]\n",
        "rec_6 = listings[listings['id']==66718]\n",
        "rec_7 = listings[listings['id']==66741]\n",
        "rec_8 = listings[listings['id']==66974]\n",
        "rec_9 = listings[listings['id']==67288]\n",
        "rec_10 = listings[listings['id']==67299]"
      ],
      "metadata": {
        "id": "BVo7U4EJ7iSz"
      },
      "execution_count": 247,
      "outputs": []
    },
    {
      "cell_type": "code",
      "source": [
        "# creatinf final recomendation DataFrame\n",
        "final = pd.concat([rec_1, rec_2, rec_3,rec_4,rec_5,rec_6,rec_7,rec_8,rec_9,rec_10], ignore_index=True)"
      ],
      "metadata": {
        "id": "4beF96nn9fAb"
      },
      "execution_count": 248,
      "outputs": []
    },
    {
      "cell_type": "code",
      "source": [
        "final"
      ],
      "metadata": {
        "colab": {
          "base_uri": "https://localhost:8080/",
          "height": 363
        },
        "id": "eExu9BH7-RIg",
        "outputId": "ebff5d11-a429-455e-88d2-96c41895e4b9"
      },
      "execution_count": 249,
      "outputs": [
        {
          "output_type": "execute_result",
          "data": {
            "text/plain": [
              "      id                                                name host_name  \\\n",
              "0   5178                    Large Furnished Room Near B'way　  Shunichi   \n",
              "1   2539                  Clean & quiet apt home by the park      John   \n",
              "2  71248         Bright and lovely 1-bdrm LES apt w/ balcony  Jennifer   \n",
              "3  66251                East Village Loft with Piano & Patio     Samir   \n",
              "4  66275  Lower East Side Magic Apartment Entire Apartment!!      Tony   \n",
              "5  66718                    West Harlem Home Base - Eco-Apt.   Henning   \n",
              "6  66741                   Charming Garden Apt in Park Slope   Stefano   \n",
              "7  66974                    Lovely, Modern, Garden Apartment      Jana   \n",
              "8  67288                        Central Park 1BR sunny condo       Per   \n",
              "9  67299              Cozy Garden Apartment  in Williamsburg  Adrienne   \n",
              "\n",
              "  neighbourhood_cleansed neighbourhood_group_cleansed  price  \n",
              "0                Midtown                    Manhattan   68.0  \n",
              "1             Kensington                     Brooklyn  299.0  \n",
              "2              Chinatown                    Manhattan  142.0  \n",
              "3           East Village                    Manhattan  278.0  \n",
              "4                 Nolita                    Manhattan  485.0  \n",
              "5                 Harlem                    Manhattan   76.0  \n",
              "6             Park Slope                     Brooklyn  130.0  \n",
              "7                Gowanus                     Brooklyn  190.0  \n",
              "8            East Harlem                    Manhattan  115.0  \n",
              "9           Williamsburg                     Brooklyn   86.0  "
            ],
            "text/html": [
              "\n",
              "  <div id=\"df-0033e796-ddad-49fb-bbb8-5f3b5bc60b0d\">\n",
              "    <div class=\"colab-df-container\">\n",
              "      <div>\n",
              "<style scoped>\n",
              "    .dataframe tbody tr th:only-of-type {\n",
              "        vertical-align: middle;\n",
              "    }\n",
              "\n",
              "    .dataframe tbody tr th {\n",
              "        vertical-align: top;\n",
              "    }\n",
              "\n",
              "    .dataframe thead th {\n",
              "        text-align: right;\n",
              "    }\n",
              "</style>\n",
              "<table border=\"1\" class=\"dataframe\">\n",
              "  <thead>\n",
              "    <tr style=\"text-align: right;\">\n",
              "      <th></th>\n",
              "      <th>id</th>\n",
              "      <th>name</th>\n",
              "      <th>host_name</th>\n",
              "      <th>neighbourhood_cleansed</th>\n",
              "      <th>neighbourhood_group_cleansed</th>\n",
              "      <th>price</th>\n",
              "    </tr>\n",
              "  </thead>\n",
              "  <tbody>\n",
              "    <tr>\n",
              "      <th>0</th>\n",
              "      <td>5178</td>\n",
              "      <td>Large Furnished Room Near B'way</td>\n",
              "      <td>Shunichi</td>\n",
              "      <td>Midtown</td>\n",
              "      <td>Manhattan</td>\n",
              "      <td>68.0</td>\n",
              "    </tr>\n",
              "    <tr>\n",
              "      <th>1</th>\n",
              "      <td>2539</td>\n",
              "      <td>Clean &amp; quiet apt home by the park</td>\n",
              "      <td>John</td>\n",
              "      <td>Kensington</td>\n",
              "      <td>Brooklyn</td>\n",
              "      <td>299.0</td>\n",
              "    </tr>\n",
              "    <tr>\n",
              "      <th>2</th>\n",
              "      <td>71248</td>\n",
              "      <td>Bright and lovely 1-bdrm LES apt w/ balcony</td>\n",
              "      <td>Jennifer</td>\n",
              "      <td>Chinatown</td>\n",
              "      <td>Manhattan</td>\n",
              "      <td>142.0</td>\n",
              "    </tr>\n",
              "    <tr>\n",
              "      <th>3</th>\n",
              "      <td>66251</td>\n",
              "      <td>East Village Loft with Piano &amp; Patio</td>\n",
              "      <td>Samir</td>\n",
              "      <td>East Village</td>\n",
              "      <td>Manhattan</td>\n",
              "      <td>278.0</td>\n",
              "    </tr>\n",
              "    <tr>\n",
              "      <th>4</th>\n",
              "      <td>66275</td>\n",
              "      <td>Lower East Side Magic Apartment Entire Apartment!!</td>\n",
              "      <td>Tony</td>\n",
              "      <td>Nolita</td>\n",
              "      <td>Manhattan</td>\n",
              "      <td>485.0</td>\n",
              "    </tr>\n",
              "    <tr>\n",
              "      <th>5</th>\n",
              "      <td>66718</td>\n",
              "      <td>West Harlem Home Base - Eco-Apt.</td>\n",
              "      <td>Henning</td>\n",
              "      <td>Harlem</td>\n",
              "      <td>Manhattan</td>\n",
              "      <td>76.0</td>\n",
              "    </tr>\n",
              "    <tr>\n",
              "      <th>6</th>\n",
              "      <td>66741</td>\n",
              "      <td>Charming Garden Apt in Park Slope</td>\n",
              "      <td>Stefano</td>\n",
              "      <td>Park Slope</td>\n",
              "      <td>Brooklyn</td>\n",
              "      <td>130.0</td>\n",
              "    </tr>\n",
              "    <tr>\n",
              "      <th>7</th>\n",
              "      <td>66974</td>\n",
              "      <td>Lovely, Modern, Garden Apartment</td>\n",
              "      <td>Jana</td>\n",
              "      <td>Gowanus</td>\n",
              "      <td>Brooklyn</td>\n",
              "      <td>190.0</td>\n",
              "    </tr>\n",
              "    <tr>\n",
              "      <th>8</th>\n",
              "      <td>67288</td>\n",
              "      <td>Central Park 1BR sunny condo</td>\n",
              "      <td>Per</td>\n",
              "      <td>East Harlem</td>\n",
              "      <td>Manhattan</td>\n",
              "      <td>115.0</td>\n",
              "    </tr>\n",
              "    <tr>\n",
              "      <th>9</th>\n",
              "      <td>67299</td>\n",
              "      <td>Cozy Garden Apartment  in Williamsburg</td>\n",
              "      <td>Adrienne</td>\n",
              "      <td>Williamsburg</td>\n",
              "      <td>Brooklyn</td>\n",
              "      <td>86.0</td>\n",
              "    </tr>\n",
              "  </tbody>\n",
              "</table>\n",
              "</div>\n",
              "      <button class=\"colab-df-convert\" onclick=\"convertToInteractive('df-0033e796-ddad-49fb-bbb8-5f3b5bc60b0d')\"\n",
              "              title=\"Convert this dataframe to an interactive table.\"\n",
              "              style=\"display:none;\">\n",
              "        \n",
              "  <svg xmlns=\"http://www.w3.org/2000/svg\" height=\"24px\"viewBox=\"0 0 24 24\"\n",
              "       width=\"24px\">\n",
              "    <path d=\"M0 0h24v24H0V0z\" fill=\"none\"/>\n",
              "    <path d=\"M18.56 5.44l.94 2.06.94-2.06 2.06-.94-2.06-.94-.94-2.06-.94 2.06-2.06.94zm-11 1L8.5 8.5l.94-2.06 2.06-.94-2.06-.94L8.5 2.5l-.94 2.06-2.06.94zm10 10l.94 2.06.94-2.06 2.06-.94-2.06-.94-.94-2.06-.94 2.06-2.06.94z\"/><path d=\"M17.41 7.96l-1.37-1.37c-.4-.4-.92-.59-1.43-.59-.52 0-1.04.2-1.43.59L10.3 9.45l-7.72 7.72c-.78.78-.78 2.05 0 2.83L4 21.41c.39.39.9.59 1.41.59.51 0 1.02-.2 1.41-.59l7.78-7.78 2.81-2.81c.8-.78.8-2.07 0-2.86zM5.41 20L4 18.59l7.72-7.72 1.47 1.35L5.41 20z\"/>\n",
              "  </svg>\n",
              "      </button>\n",
              "      \n",
              "  <style>\n",
              "    .colab-df-container {\n",
              "      display:flex;\n",
              "      flex-wrap:wrap;\n",
              "      gap: 12px;\n",
              "    }\n",
              "\n",
              "    .colab-df-convert {\n",
              "      background-color: #E8F0FE;\n",
              "      border: none;\n",
              "      border-radius: 50%;\n",
              "      cursor: pointer;\n",
              "      display: none;\n",
              "      fill: #1967D2;\n",
              "      height: 32px;\n",
              "      padding: 0 0 0 0;\n",
              "      width: 32px;\n",
              "    }\n",
              "\n",
              "    .colab-df-convert:hover {\n",
              "      background-color: #E2EBFA;\n",
              "      box-shadow: 0px 1px 2px rgba(60, 64, 67, 0.3), 0px 1px 3px 1px rgba(60, 64, 67, 0.15);\n",
              "      fill: #174EA6;\n",
              "    }\n",
              "\n",
              "    [theme=dark] .colab-df-convert {\n",
              "      background-color: #3B4455;\n",
              "      fill: #D2E3FC;\n",
              "    }\n",
              "\n",
              "    [theme=dark] .colab-df-convert:hover {\n",
              "      background-color: #434B5C;\n",
              "      box-shadow: 0px 1px 3px 1px rgba(0, 0, 0, 0.15);\n",
              "      filter: drop-shadow(0px 1px 2px rgba(0, 0, 0, 0.3));\n",
              "      fill: #FFFFFF;\n",
              "    }\n",
              "  </style>\n",
              "\n",
              "      <script>\n",
              "        const buttonEl =\n",
              "          document.querySelector('#df-0033e796-ddad-49fb-bbb8-5f3b5bc60b0d button.colab-df-convert');\n",
              "        buttonEl.style.display =\n",
              "          google.colab.kernel.accessAllowed ? 'block' : 'none';\n",
              "\n",
              "        async function convertToInteractive(key) {\n",
              "          const element = document.querySelector('#df-0033e796-ddad-49fb-bbb8-5f3b5bc60b0d');\n",
              "          const dataTable =\n",
              "            await google.colab.kernel.invokeFunction('convertToInteractive',\n",
              "                                                     [key], {});\n",
              "          if (!dataTable) return;\n",
              "\n",
              "          const docLinkHtml = 'Like what you see? Visit the ' +\n",
              "            '<a target=\"_blank\" href=https://colab.research.google.com/notebooks/data_table.ipynb>data table notebook</a>'\n",
              "            + ' to learn more about interactive tables.';\n",
              "          element.innerHTML = '';\n",
              "          dataTable['output_type'] = 'display_data';\n",
              "          await google.colab.output.renderOutput(dataTable, element);\n",
              "          const docLink = document.createElement('div');\n",
              "          docLink.innerHTML = docLinkHtml;\n",
              "          element.appendChild(docLink);\n",
              "        }\n",
              "      </script>\n",
              "    </div>\n",
              "  </div>\n",
              "  "
            ]
          },
          "metadata": {},
          "execution_count": 249
        }
      ]
    },
    {
      "cell_type": "code",
      "source": [
        "# PLot top 10 Recommended Listings\n",
        "plt.figure(figsize=(10,5))\n",
        "ax = sns.barplot(y = final['price'], x = final['id'],\n",
        "                 data = final,  hue='neighbourhood_group_cleansed', palette=['#469597','#DDBEAA'])\n",
        "plt.title('Top 10 Recommended Listings with Price for user №409',fontweight=\"bold\")\n",
        "ax.set_xlabel('Airbnb Listings in NYC', fontweight=\"bold\")\n",
        "ax.set_ylabel('Price in U.S. Dollar', fontweight=\"bold\");"
      ],
      "metadata": {
        "colab": {
          "base_uri": "https://localhost:8080/",
          "height": 350
        },
        "id": "MHHACq2s-YV1",
        "outputId": "26ebb033-d0d5-475c-818c-bed3070a4cab"
      },
      "execution_count": 264,
      "outputs": [
        {
          "output_type": "display_data",
          "data": {
            "text/plain": [
              "<Figure size 720x360 with 1 Axes>"
            ],
            "image/png": "[encoded data removed]"
          },
          "metadata": {}
        }
      ]
    }
  ]
}